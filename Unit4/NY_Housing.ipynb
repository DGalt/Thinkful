{
 "cells": [
  {
   "cell_type": "markdown",
   "metadata": {
    "collapsed": true,
    "tags": [
     "worksheet-0"
    ]
   },
   "source": [
    "# NYC Housing data"
   ]
  },
  {
   "cell_type": "code",
   "execution_count": 93,
   "metadata": {
    "collapsed": false,
    "tags": [
     "worksheet-0"
    ]
   },
   "outputs": [],
   "source": [
    "import pandas as pd\n",
    "import matplotlib.pyplot as plt\n",
    "import numpy as np\n",
    "import seaborn as sns\n",
    "import statsmodels.api as sm\n",
    "import statsmodels.formula.api as smf\n",
    "from sklearn.cross_validation import train_test_split\n",
    "from sklearn.neighbors import KNeighborsClassifier\n",
    "plt.style.use('ggplot')\n",
    "%matplotlib inline"
   ]
  },
  {
   "cell_type": "code",
   "execution_count": 94,
   "metadata": {
    "collapsed": false,
    "tags": [
     "worksheet-0"
    ]
   },
   "outputs": [],
   "source": [
    "file = 'rollingsales_manhattan.xls'\n",
    "df = pd.read_excel(file, header=4)\n",
    "df.dropna(inplace=True)\n",
    "df.columns = [c.lower().replace(' ', '_') for c in df.columns]"
   ]
  },
  {
   "cell_type": "code",
   "execution_count": 95,
   "metadata": {
    "collapsed": false
   },
   "outputs": [
    {
     "data": {
      "text/html": [
       "<div>\n",
       "<table border=\"1\" class=\"dataframe\">\n",
       "  <thead>\n",
       "    <tr style=\"text-align: right;\">\n",
       "      <th></th>\n",
       "      <th>borough</th>\n",
       "      <th>neighborhood</th>\n",
       "      <th>building_class_category</th>\n",
       "      <th>tax_class_at_present</th>\n",
       "      <th>block</th>\n",
       "      <th>lot</th>\n",
       "      <th>ease-ment</th>\n",
       "      <th>building_class_at_present</th>\n",
       "      <th>address</th>\n",
       "      <th>apartment_number</th>\n",
       "      <th>...</th>\n",
       "      <th>residential_units</th>\n",
       "      <th>commercial_units</th>\n",
       "      <th>total_units</th>\n",
       "      <th>land_square_feet</th>\n",
       "      <th>gross_square_feet</th>\n",
       "      <th>year_built</th>\n",
       "      <th>tax_class_at_time_of_sale</th>\n",
       "      <th>building_class_at_time_of_sale</th>\n",
       "      <th>sale_price</th>\n",
       "      <th>sale_date</th>\n",
       "    </tr>\n",
       "  </thead>\n",
       "  <tbody>\n",
       "    <tr>\n",
       "      <th>0</th>\n",
       "      <td>1</td>\n",
       "      <td>ALPHABET CITY</td>\n",
       "      <td>01  ONE FAMILY DWELLINGS</td>\n",
       "      <td>1</td>\n",
       "      <td>400</td>\n",
       "      <td>19</td>\n",
       "      <td></td>\n",
       "      <td>A4</td>\n",
       "      <td>526 EAST 5TH STREET</td>\n",
       "      <td></td>\n",
       "      <td>...</td>\n",
       "      <td>1</td>\n",
       "      <td>0</td>\n",
       "      <td>1</td>\n",
       "      <td>1883</td>\n",
       "      <td>5200</td>\n",
       "      <td>1900</td>\n",
       "      <td>1</td>\n",
       "      <td>A4</td>\n",
       "      <td>6500000</td>\n",
       "      <td>2015-03-18</td>\n",
       "    </tr>\n",
       "    <tr>\n",
       "      <th>1</th>\n",
       "      <td>1</td>\n",
       "      <td>ALPHABET CITY</td>\n",
       "      <td>01  ONE FAMILY DWELLINGS</td>\n",
       "      <td>1</td>\n",
       "      <td>402</td>\n",
       "      <td>42</td>\n",
       "      <td></td>\n",
       "      <td>S1</td>\n",
       "      <td>96 AVENUE B</td>\n",
       "      <td></td>\n",
       "      <td>...</td>\n",
       "      <td>1</td>\n",
       "      <td>1</td>\n",
       "      <td>2</td>\n",
       "      <td>1400</td>\n",
       "      <td>1839</td>\n",
       "      <td>1901</td>\n",
       "      <td>1</td>\n",
       "      <td>S1</td>\n",
       "      <td>0</td>\n",
       "      <td>2014-12-05</td>\n",
       "    </tr>\n",
       "    <tr>\n",
       "      <th>2</th>\n",
       "      <td>1</td>\n",
       "      <td>ALPHABET CITY</td>\n",
       "      <td>03  THREE FAMILY DWELLINGS</td>\n",
       "      <td>1</td>\n",
       "      <td>377</td>\n",
       "      <td>66</td>\n",
       "      <td></td>\n",
       "      <td>C0</td>\n",
       "      <td>243 EAST 7TH   STREET</td>\n",
       "      <td></td>\n",
       "      <td>...</td>\n",
       "      <td>3</td>\n",
       "      <td>0</td>\n",
       "      <td>3</td>\n",
       "      <td>2381</td>\n",
       "      <td>3084</td>\n",
       "      <td>1899</td>\n",
       "      <td>1</td>\n",
       "      <td>C0</td>\n",
       "      <td>2900000</td>\n",
       "      <td>2015-06-24</td>\n",
       "    </tr>\n",
       "    <tr>\n",
       "      <th>3</th>\n",
       "      <td>1</td>\n",
       "      <td>ALPHABET CITY</td>\n",
       "      <td>03  THREE FAMILY DWELLINGS</td>\n",
       "      <td>1</td>\n",
       "      <td>377</td>\n",
       "      <td>66</td>\n",
       "      <td></td>\n",
       "      <td>C0</td>\n",
       "      <td>243 EAST 7TH   STREET</td>\n",
       "      <td></td>\n",
       "      <td>...</td>\n",
       "      <td>3</td>\n",
       "      <td>0</td>\n",
       "      <td>3</td>\n",
       "      <td>2381</td>\n",
       "      <td>3084</td>\n",
       "      <td>1899</td>\n",
       "      <td>1</td>\n",
       "      <td>C0</td>\n",
       "      <td>2900000</td>\n",
       "      <td>2014-11-26</td>\n",
       "    </tr>\n",
       "    <tr>\n",
       "      <th>4</th>\n",
       "      <td>1</td>\n",
       "      <td>ALPHABET CITY</td>\n",
       "      <td>04  TAX CLASS 1 CONDOS</td>\n",
       "      <td>1C</td>\n",
       "      <td>399</td>\n",
       "      <td>1101</td>\n",
       "      <td></td>\n",
       "      <td>R6</td>\n",
       "      <td>238 EAST 4TH   STREET</td>\n",
       "      <td>-</td>\n",
       "      <td>...</td>\n",
       "      <td>1</td>\n",
       "      <td>0</td>\n",
       "      <td>1</td>\n",
       "      <td>0</td>\n",
       "      <td>0</td>\n",
       "      <td>1955</td>\n",
       "      <td>1</td>\n",
       "      <td>R6</td>\n",
       "      <td>6995000</td>\n",
       "      <td>2015-06-15</td>\n",
       "    </tr>\n",
       "  </tbody>\n",
       "</table>\n",
       "<p>5 rows × 21 columns</p>\n",
       "</div>"
      ],
      "text/plain": [
       "   borough               neighborhood  \\\n",
       "0        1  ALPHABET CITY               \n",
       "1        1  ALPHABET CITY               \n",
       "2        1  ALPHABET CITY               \n",
       "3        1  ALPHABET CITY               \n",
       "4        1  ALPHABET CITY               \n",
       "\n",
       "                        building_class_category tax_class_at_present  block  \\\n",
       "0  01  ONE FAMILY DWELLINGS                                        1    400   \n",
       "1  01  ONE FAMILY DWELLINGS                                        1    402   \n",
       "2  03  THREE FAMILY DWELLINGS                                      1    377   \n",
       "3  03  THREE FAMILY DWELLINGS                                      1    377   \n",
       "4  04  TAX CLASS 1 CONDOS                                         1C    399   \n",
       "\n",
       "    lot ease-ment building_class_at_present  \\\n",
       "0    19                                  A4   \n",
       "1    42                                  S1   \n",
       "2    66                                  C0   \n",
       "3    66                                  C0   \n",
       "4  1101                                  R6   \n",
       "\n",
       "                                     address apartment_number    ...      \\\n",
       "0  526 EAST 5TH STREET                                           ...       \n",
       "1  96 AVENUE B                                                   ...       \n",
       "2  243 EAST 7TH   STREET                                         ...       \n",
       "3  243 EAST 7TH   STREET                                         ...       \n",
       "4  238 EAST 4TH   STREET                         -               ...       \n",
       "\n",
       "   residential_units  commercial_units  total_units  land_square_feet  \\\n",
       "0                  1                 0            1              1883   \n",
       "1                  1                 1            2              1400   \n",
       "2                  3                 0            3              2381   \n",
       "3                  3                 0            3              2381   \n",
       "4                  1                 0            1                 0   \n",
       "\n",
       "   gross_square_feet  year_built  tax_class_at_time_of_sale  \\\n",
       "0               5200        1900                          1   \n",
       "1               1839        1901                          1   \n",
       "2               3084        1899                          1   \n",
       "3               3084        1899                          1   \n",
       "4                  0        1955                          1   \n",
       "\n",
       "   building_class_at_time_of_sale sale_price  sale_date  \n",
       "0                              A4    6500000 2015-03-18  \n",
       "1                              S1          0 2014-12-05  \n",
       "2                              C0    2900000 2015-06-24  \n",
       "3                              C0    2900000 2014-11-26  \n",
       "4                              R6    6995000 2015-06-15  \n",
       "\n",
       "[5 rows x 21 columns]"
      ]
     },
     "execution_count": 95,
     "metadata": {},
     "output_type": "execute_result"
    }
   ],
   "source": [
    "df.head()"
   ]
  },
  {
   "cell_type": "markdown",
   "metadata": {},
   "source": [
    "### Looking at distributions in the data\n"
   ]
  },
  {
   "cell_type": "code",
   "execution_count": 96,
   "metadata": {
    "collapsed": false
   },
   "outputs": [],
   "source": [
    "lower = 1e4\n",
    "upper = 1e10\n",
    "subset_df = df[(df[\"sale_price\"] >= lower) & (df[\"sale_price\"] <= upper) \n",
    "               & (df[\"gross_square_feet\"] != 0) & (df[\"residential_units\"] != 0)]"
   ]
  },
  {
   "cell_type": "code",
   "execution_count": 97,
   "metadata": {
    "collapsed": false
   },
   "outputs": [
    {
     "data": {
      "text/plain": [
       "<matplotlib.axes._subplots.AxesSubplot at 0x7f29c29a4d50>"
      ]
     },
     "execution_count": 97,
     "metadata": {},
     "output_type": "execute_result"
    },
    {
     "data": {
      "image/png": "[encoded data removed]",
      "text/plain": [
       "<matplotlib.figure.Figure at 0x7f29c29f7b50>"
      ]
     },
     "metadata": {},
     "output_type": "display_data"
    }
   ],
   "source": [
    "plt.figure(figsize=(20,10))\n",
    "x = pd.Categorical.from_array(subset_df[\"neighborhood\"])\n",
    "y = subset_df[\"sale_price\"]\n",
    "sns.boxplot(x.codes, y, orient=\"v\")"
   ]
  },
  {
   "cell_type": "code",
   "execution_count": 98,
   "metadata": {
    "collapsed": false
   },
   "outputs": [
    {
     "data": {
      "text/plain": [
       "<matplotlib.axes._subplots.AxesSubplot at 0x7f29c298f710>"
      ]
     },
     "execution_count": 98,
     "metadata": {},
     "output_type": "execute_result"
    },
    {
     "data": {
      "image/png": "[encoded data removed]",
      "text/plain": [
       "<matplotlib.figure.Figure at 0x7f29c1e07c50>"
      ]
     },
     "metadata": {},
     "output_type": "display_data"
    }
   ],
   "source": [
    "plt.figure(figsize=(20,10))\n",
    "x = pd.Categorical.from_array(subset_df[\"building_class_at_time_of_sale\"])\n",
    "y = subset_df[\"sale_price\"]\n",
    "sns.boxplot(x.codes, y, orient=\"v\")"
   ]
  },
  {
   "cell_type": "code",
   "execution_count": 99,
   "metadata": {
    "collapsed": false
   },
   "outputs": [
    {
     "data": {
      "text/plain": [
       "<matplotlib.axes._subplots.AxesSubplot at 0x7f29c195a510>"
      ]
     },
     "execution_count": 99,
     "metadata": {},
     "output_type": "execute_result"
    },
    {
     "data": {
      "image/png": "[encoded data removed]",
      "text/plain": [
       "<matplotlib.figure.Figure at 0x7f29c29ebfd0>"
      ]
     },
     "metadata": {},
     "output_type": "display_data"
    }
   ],
   "source": [
    "sns.regplot(subset_df[\"gross_square_feet\"], subset_df[\"sale_price\"])"
   ]
  },
  {
   "cell_type": "code",
   "execution_count": 100,
   "metadata": {
    "collapsed": false
   },
   "outputs": [
    {
     "data": {
      "text/plain": [
       "<matplotlib.axes._subplots.AxesSubplot at 0x7f29c1857b50>"
      ]
     },
     "execution_count": 100,
     "metadata": {},
     "output_type": "execute_result"
    },
    {
     "data": {
      "image/png": "[encoded data removed]",
      "text/plain": [
       "<matplotlib.figure.Figure at 0x7f29c17d4ad0>"
      ]
     },
     "metadata": {},
     "output_type": "display_data"
    }
   ],
   "source": [
    "sns.regplot(subset_df[\"total_units\"], subset_df[\"sale_price\"])"
   ]
  },
  {
   "cell_type": "markdown",
   "metadata": {},
   "source": [
    "### Linear Regression"
   ]
  },
  {
   "cell_type": "code",
   "execution_count": 101,
   "metadata": {
    "collapsed": false
   },
   "outputs": [
    {
     "data": {
      "text/html": [
       "<table class=\"simpletable\">\n",
       "<caption>OLS Regression Results</caption>\n",
       "<tr>\n",
       "  <th>Dep. Variable:</th>       <td>sale_price</td>    <th>  R-squared:         </th> <td>   0.724</td> \n",
       "</tr>\n",
       "<tr>\n",
       "  <th>Model:</th>                   <td>OLS</td>       <th>  Adj. R-squared:    </th> <td>   0.696</td> \n",
       "</tr>\n",
       "<tr>\n",
       "  <th>Method:</th>             <td>Least Squares</td>  <th>  F-statistic:       </th> <td>   26.55</td> \n",
       "</tr>\n",
       "<tr>\n",
       "  <th>Date:</th>             <td>Mon, 31 Aug 2015</td> <th>  Prob (F-statistic):</th> <td>5.03e-196</td>\n",
       "</tr>\n",
       "<tr>\n",
       "  <th>Time:</th>                 <td>09:06:10</td>     <th>  Log-Likelihood:    </th> <td> -17894.</td> \n",
       "</tr>\n",
       "<tr>\n",
       "  <th>No. Observations:</th>      <td>   992</td>      <th>  AIC:               </th> <td>3.597e+04</td>\n",
       "</tr>\n",
       "<tr>\n",
       "  <th>Df Residuals:</th>          <td>   902</td>      <th>  BIC:               </th> <td>3.641e+04</td>\n",
       "</tr>\n",
       "<tr>\n",
       "  <th>Df Model:</th>              <td>    89</td>      <th>                     </th>     <td> </td>    \n",
       "</tr>\n",
       "<tr>\n",
       "  <th>Covariance Type:</th>      <td>nonrobust</td>    <th>                     </th>     <td> </td>    \n",
       "</tr>\n",
       "</table>\n",
       "<table class=\"simpletable\">\n",
       "<tr>\n",
       "                        <td></td>                          <th>coef</th>     <th>std err</th>      <th>t</th>      <th>P>|t|</th> <th>[95.0% Conf. Int.]</th> \n",
       "</tr>\n",
       "<tr>\n",
       "  <th>Intercept</th>                                    <td> 2.095e+06</td> <td> 1.31e+07</td> <td>    0.160</td> <td> 0.873</td> <td>-2.36e+07  2.78e+07</td>\n",
       "</tr>\n",
       "<tr>\n",
       "  <th>C(neighborhood)[T.CHELSEA                  ]</th> <td> 4.985e+06</td> <td> 5.17e+06</td> <td>    0.965</td> <td> 0.335</td> <td>-5.15e+06  1.51e+07</td>\n",
       "</tr>\n",
       "<tr>\n",
       "  <th>C(neighborhood)[T.CHINATOWN                ]</th> <td>-1.589e+06</td> <td> 6.73e+06</td> <td>   -0.236</td> <td> 0.813</td> <td>-1.48e+07  1.16e+07</td>\n",
       "</tr>\n",
       "<tr>\n",
       "  <th>C(neighborhood)[T.CIVIC CENTER             ]</th> <td>-8.051e+06</td> <td> 1.39e+07</td> <td>   -0.579</td> <td> 0.563</td> <td>-3.54e+07  1.93e+07</td>\n",
       "</tr>\n",
       "<tr>\n",
       "  <th>C(neighborhood)[T.CLINTON                  ]</th> <td>-1.713e+06</td> <td> 6.08e+06</td> <td>   -0.282</td> <td> 0.778</td> <td>-1.36e+07  1.02e+07</td>\n",
       "</tr>\n",
       "<tr>\n",
       "  <th>C(neighborhood)[T.EAST VILLAGE             ]</th> <td>-9.419e+06</td> <td> 5.53e+06</td> <td>   -1.703</td> <td> 0.089</td> <td>-2.03e+07  1.44e+06</td>\n",
       "</tr>\n",
       "<tr>\n",
       "  <th>C(neighborhood)[T.FASHION                  ]</th> <td> 1.021e+07</td> <td> 9.92e+06</td> <td>    1.029</td> <td> 0.304</td> <td>-9.26e+06  2.97e+07</td>\n",
       "</tr>\n",
       "<tr>\n",
       "  <th>C(neighborhood)[T.FINANCIAL                ]</th> <td> 2.443e+05</td> <td> 7.43e+06</td> <td>    0.033</td> <td> 0.974</td> <td>-1.43e+07  1.48e+07</td>\n",
       "</tr>\n",
       "<tr>\n",
       "  <th>C(neighborhood)[T.FLATIRON                 ]</th> <td>  7.55e+06</td> <td>  9.5e+06</td> <td>    0.795</td> <td> 0.427</td> <td>-1.11e+07  2.62e+07</td>\n",
       "</tr>\n",
       "<tr>\n",
       "  <th>C(neighborhood)[T.GRAMERCY                 ]</th> <td> 2.454e+06</td> <td> 6.16e+06</td> <td>    0.398</td> <td> 0.690</td> <td>-9.64e+06  1.45e+07</td>\n",
       "</tr>\n",
       "<tr>\n",
       "  <th>C(neighborhood)[T.GREENWICH VILLAGE-CENTRAL]</th> <td> 6.685e+06</td> <td> 5.31e+06</td> <td>    1.259</td> <td> 0.208</td> <td>-3.74e+06  1.71e+07</td>\n",
       "</tr>\n",
       "<tr>\n",
       "  <th>C(neighborhood)[T.GREENWICH VILLAGE-WEST   ]</th> <td> 5.517e+06</td> <td> 4.79e+06</td> <td>    1.152</td> <td> 0.250</td> <td>-3.88e+06  1.49e+07</td>\n",
       "</tr>\n",
       "<tr>\n",
       "  <th>C(neighborhood)[T.HARLEM-CENTRAL           ]</th> <td>-4.796e+06</td> <td> 4.34e+06</td> <td>   -1.106</td> <td> 0.269</td> <td>-1.33e+07  3.72e+06</td>\n",
       "</tr>\n",
       "<tr>\n",
       "  <th>C(neighborhood)[T.HARLEM-EAST              ]</th> <td>-8.494e+06</td> <td> 4.93e+06</td> <td>   -1.724</td> <td> 0.085</td> <td>-1.82e+07  1.18e+06</td>\n",
       "</tr>\n",
       "<tr>\n",
       "  <th>C(neighborhood)[T.HARLEM-UPPER             ]</th> <td>-3.938e+06</td> <td> 4.76e+06</td> <td>   -0.828</td> <td> 0.408</td> <td>-1.33e+07   5.4e+06</td>\n",
       "</tr>\n",
       "<tr>\n",
       "  <th>C(neighborhood)[T.HARLEM-WEST              ]</th> <td> -4.68e+06</td> <td> 7.15e+06</td> <td>   -0.654</td> <td> 0.513</td> <td>-1.87e+07  9.36e+06</td>\n",
       "</tr>\n",
       "<tr>\n",
       "  <th>C(neighborhood)[T.INWOOD                   ]</th> <td> -7.11e+06</td> <td> 5.51e+06</td> <td>   -1.289</td> <td> 0.198</td> <td>-1.79e+07  3.71e+06</td>\n",
       "</tr>\n",
       "<tr>\n",
       "  <th>C(neighborhood)[T.JAVITS CENTER            ]</th> <td>-1.444e+06</td> <td> 1.79e+07</td> <td>   -0.081</td> <td> 0.936</td> <td>-3.66e+07  3.37e+07</td>\n",
       "</tr>\n",
       "<tr>\n",
       "  <th>C(neighborhood)[T.KIPS BAY                 ]</th> <td> 1.982e+07</td> <td> 9.02e+06</td> <td>    2.197</td> <td> 0.028</td> <td> 2.12e+06  3.75e+07</td>\n",
       "</tr>\n",
       "<tr>\n",
       "  <th>C(neighborhood)[T.LITTLE ITALY             ]</th> <td> 7.377e+06</td> <td> 6.58e+06</td> <td>    1.122</td> <td> 0.262</td> <td>-5.53e+06  2.03e+07</td>\n",
       "</tr>\n",
       "<tr>\n",
       "  <th>C(neighborhood)[T.LOWER EAST SIDE          ]</th> <td>-3.015e+05</td> <td> 5.32e+06</td> <td>   -0.057</td> <td> 0.955</td> <td>-1.07e+07  1.01e+07</td>\n",
       "</tr>\n",
       "<tr>\n",
       "  <th>C(neighborhood)[T.MANHATTAN VALLEY         ]</th> <td>-4.381e+06</td> <td> 6.23e+06</td> <td>   -0.703</td> <td> 0.482</td> <td>-1.66e+07  7.85e+06</td>\n",
       "</tr>\n",
       "<tr>\n",
       "  <th>C(neighborhood)[T.MIDTOWN CBD              ]</th> <td> 3.067e+06</td> <td> 8.63e+06</td> <td>    0.355</td> <td> 0.722</td> <td>-1.39e+07     2e+07</td>\n",
       "</tr>\n",
       "<tr>\n",
       "  <th>C(neighborhood)[T.MIDTOWN EAST             ]</th> <td>-3.732e+06</td> <td> 5.56e+06</td> <td>   -0.672</td> <td> 0.502</td> <td>-1.46e+07  7.17e+06</td>\n",
       "</tr>\n",
       "<tr>\n",
       "  <th>C(neighborhood)[T.MIDTOWN WEST             ]</th> <td> 1.073e+07</td> <td> 6.34e+06</td> <td>    1.692</td> <td> 0.091</td> <td>-1.72e+06  2.32e+07</td>\n",
       "</tr>\n",
       "<tr>\n",
       "  <th>C(neighborhood)[T.MORNINGSIDE HEIGHTS      ]</th> <td>-1.145e+06</td> <td> 9.66e+06</td> <td>   -0.119</td> <td> 0.906</td> <td>-2.01e+07  1.78e+07</td>\n",
       "</tr>\n",
       "<tr>\n",
       "  <th>C(neighborhood)[T.MURRAY HILL              ]</th> <td> 1.725e+06</td> <td> 5.09e+06</td> <td>    0.339</td> <td> 0.735</td> <td>-8.26e+06  1.17e+07</td>\n",
       "</tr>\n",
       "<tr>\n",
       "  <th>C(neighborhood)[T.SOHO                     ]</th> <td> 2.838e+05</td> <td> 5.81e+06</td> <td>    0.049</td> <td> 0.961</td> <td>-1.11e+07  1.17e+07</td>\n",
       "</tr>\n",
       "<tr>\n",
       "  <th>C(neighborhood)[T.SOUTHBRIDGE              ]</th> <td>-3.535e+06</td> <td> 8.92e+06</td> <td>   -0.396</td> <td> 0.692</td> <td> -2.1e+07   1.4e+07</td>\n",
       "</tr>\n",
       "<tr>\n",
       "  <th>C(neighborhood)[T.TRIBECA                  ]</th> <td>  1.15e+06</td> <td> 9.84e+06</td> <td>    0.117</td> <td> 0.907</td> <td>-1.82e+07  2.05e+07</td>\n",
       "</tr>\n",
       "<tr>\n",
       "  <th>C(neighborhood)[T.UPPER EAST SIDE (59-79)  ]</th> <td> 7.714e+06</td> <td> 4.69e+06</td> <td>    1.646</td> <td> 0.100</td> <td>-1.48e+06  1.69e+07</td>\n",
       "</tr>\n",
       "<tr>\n",
       "  <th>C(neighborhood)[T.UPPER EAST SIDE (79-96)  ]</th> <td> 5.297e+06</td> <td> 4.75e+06</td> <td>    1.116</td> <td> 0.265</td> <td>-4.02e+06  1.46e+07</td>\n",
       "</tr>\n",
       "<tr>\n",
       "  <th>C(neighborhood)[T.UPPER EAST SIDE (96-110) ]</th> <td>-1.742e+07</td> <td> 1.32e+07</td> <td>   -1.318</td> <td> 0.188</td> <td>-4.34e+07  8.53e+06</td>\n",
       "</tr>\n",
       "<tr>\n",
       "  <th>C(neighborhood)[T.UPPER WEST SIDE (59-79)  ]</th> <td>-1.316e+06</td> <td> 5.46e+06</td> <td>   -0.241</td> <td> 0.810</td> <td> -1.2e+07   9.4e+06</td>\n",
       "</tr>\n",
       "<tr>\n",
       "  <th>C(neighborhood)[T.UPPER WEST SIDE (79-96)  ]</th> <td> 9.535e+06</td> <td> 4.98e+06</td> <td>    1.915</td> <td> 0.056</td> <td>-2.38e+05  1.93e+07</td>\n",
       "</tr>\n",
       "<tr>\n",
       "  <th>C(neighborhood)[T.UPPER WEST SIDE (96-116) ]</th> <td> 3.155e+06</td> <td> 6.91e+06</td> <td>    0.456</td> <td> 0.648</td> <td>-1.04e+07  1.67e+07</td>\n",
       "</tr>\n",
       "<tr>\n",
       "  <th>C(neighborhood)[T.WASHINGTON HEIGHTS LOWER ]</th> <td>-5.196e+06</td> <td> 4.72e+06</td> <td>   -1.101</td> <td> 0.271</td> <td>-1.45e+07  4.07e+06</td>\n",
       "</tr>\n",
       "<tr>\n",
       "  <th>C(neighborhood)[T.WASHINGTON HEIGHTS UPPER ]</th> <td>-8.362e+06</td> <td> 5.08e+06</td> <td>   -1.646</td> <td> 0.100</td> <td>-1.83e+07  1.61e+06</td>\n",
       "</tr>\n",
       "<tr>\n",
       "  <th>C(building_class_at_time_of_sale)[T.A4]</th>      <td> 1.702e+06</td> <td> 1.27e+07</td> <td>    0.134</td> <td> 0.893</td> <td>-2.31e+07  2.66e+07</td>\n",
       "</tr>\n",
       "<tr>\n",
       "  <th>C(building_class_at_time_of_sale)[T.A5]</th>      <td>  1.07e+06</td> <td> 1.41e+07</td> <td>    0.076</td> <td> 0.940</td> <td>-2.66e+07  2.88e+07</td>\n",
       "</tr>\n",
       "<tr>\n",
       "  <th>C(building_class_at_time_of_sale)[T.A9]</th>      <td> 5.226e+05</td> <td> 1.33e+07</td> <td>    0.039</td> <td> 0.969</td> <td>-2.55e+07  2.65e+07</td>\n",
       "</tr>\n",
       "<tr>\n",
       "  <th>C(building_class_at_time_of_sale)[T.B1]</th>      <td> 1.916e+06</td> <td> 1.27e+07</td> <td>    0.151</td> <td> 0.880</td> <td> -2.3e+07  2.68e+07</td>\n",
       "</tr>\n",
       "<tr>\n",
       "  <th>C(building_class_at_time_of_sale)[T.B2]</th>      <td> 2.011e+06</td> <td>  1.6e+07</td> <td>    0.126</td> <td> 0.900</td> <td>-2.94e+07  3.34e+07</td>\n",
       "</tr>\n",
       "<tr>\n",
       "  <th>C(building_class_at_time_of_sale)[T.B3]</th>      <td>-1.183e+06</td> <td> 1.31e+07</td> <td>   -0.091</td> <td> 0.928</td> <td>-2.68e+07  2.45e+07</td>\n",
       "</tr>\n",
       "<tr>\n",
       "  <th>C(building_class_at_time_of_sale)[T.B9]</th>      <td> 1.824e+04</td> <td>  1.3e+07</td> <td>    0.001</td> <td> 0.999</td> <td>-2.55e+07  2.55e+07</td>\n",
       "</tr>\n",
       "<tr>\n",
       "  <th>C(building_class_at_time_of_sale)[T.C0]</th>      <td> 1.765e+06</td> <td> 1.27e+07</td> <td>    0.139</td> <td> 0.889</td> <td>-2.31e+07  2.67e+07</td>\n",
       "</tr>\n",
       "<tr>\n",
       "  <th>C(building_class_at_time_of_sale)[T.C1]</th>      <td>-7.286e+05</td> <td> 1.25e+07</td> <td>   -0.058</td> <td> 0.954</td> <td>-2.53e+07  2.38e+07</td>\n",
       "</tr>\n",
       "<tr>\n",
       "  <th>C(building_class_at_time_of_sale)[T.C2]</th>      <td> 1.112e+05</td> <td> 1.29e+07</td> <td>    0.009</td> <td> 0.993</td> <td>-2.53e+07  2.55e+07</td>\n",
       "</tr>\n",
       "<tr>\n",
       "  <th>C(building_class_at_time_of_sale)[T.C3]</th>      <td> 6.861e+06</td> <td> 1.28e+07</td> <td>    0.537</td> <td> 0.592</td> <td>-1.82e+07   3.2e+07</td>\n",
       "</tr>\n",
       "<tr>\n",
       "  <th>C(building_class_at_time_of_sale)[T.C4]</th>      <td> 6.958e+05</td> <td> 1.26e+07</td> <td>    0.055</td> <td> 0.956</td> <td>-2.41e+07  2.55e+07</td>\n",
       "</tr>\n",
       "<tr>\n",
       "  <th>C(building_class_at_time_of_sale)[T.C5]</th>      <td> 5.573e+05</td> <td> 1.26e+07</td> <td>    0.044</td> <td> 0.965</td> <td>-2.41e+07  2.52e+07</td>\n",
       "</tr>\n",
       "<tr>\n",
       "  <th>C(building_class_at_time_of_sale)[T.C6]</th>      <td>-5.129e+06</td> <td> 1.48e+07</td> <td>   -0.347</td> <td> 0.729</td> <td>-3.41e+07  2.39e+07</td>\n",
       "</tr>\n",
       "<tr>\n",
       "  <th>C(building_class_at_time_of_sale)[T.C7]</th>      <td> 1.169e+06</td> <td> 1.25e+07</td> <td>    0.093</td> <td> 0.926</td> <td>-2.34e+07  2.57e+07</td>\n",
       "</tr>\n",
       "<tr>\n",
       "  <th>C(building_class_at_time_of_sale)[T.C9]</th>      <td> 3.115e+06</td> <td> 1.75e+07</td> <td>    0.178</td> <td> 0.859</td> <td>-3.12e+07  3.75e+07</td>\n",
       "</tr>\n",
       "<tr>\n",
       "  <th>C(building_class_at_time_of_sale)[T.D0]</th>      <td> 6.041e+06</td> <td>  1.8e+07</td> <td>    0.336</td> <td> 0.737</td> <td>-2.93e+07  4.14e+07</td>\n",
       "</tr>\n",
       "<tr>\n",
       "  <th>C(building_class_at_time_of_sale)[T.D1]</th>      <td>-2.881e+06</td> <td> 1.28e+07</td> <td>   -0.225</td> <td> 0.822</td> <td> -2.8e+07  2.23e+07</td>\n",
       "</tr>\n",
       "<tr>\n",
       "  <th>C(building_class_at_time_of_sale)[T.D2]</th>      <td> 2.028e+07</td> <td> 1.48e+07</td> <td>    1.370</td> <td> 0.171</td> <td>-8.78e+06  4.93e+07</td>\n",
       "</tr>\n",
       "<tr>\n",
       "  <th>C(building_class_at_time_of_sale)[T.D3]</th>      <td> 8.748e+05</td> <td> 1.46e+07</td> <td>    0.060</td> <td> 0.952</td> <td>-2.79e+07  2.96e+07</td>\n",
       "</tr>\n",
       "<tr>\n",
       "  <th>C(building_class_at_time_of_sale)[T.D4]</th>      <td>-1.771e+07</td> <td> 1.42e+07</td> <td>   -1.243</td> <td> 0.214</td> <td>-4.57e+07  1.02e+07</td>\n",
       "</tr>\n",
       "<tr>\n",
       "  <th>C(building_class_at_time_of_sale)[T.D5]</th>      <td> 4.195e+06</td> <td> 1.58e+07</td> <td>    0.266</td> <td> 0.791</td> <td>-2.68e+07  3.52e+07</td>\n",
       "</tr>\n",
       "<tr>\n",
       "  <th>C(building_class_at_time_of_sale)[T.D6]</th>      <td> 2.085e+07</td> <td> 1.32e+07</td> <td>    1.576</td> <td> 0.115</td> <td>-5.12e+06  4.68e+07</td>\n",
       "</tr>\n",
       "<tr>\n",
       "  <th>C(building_class_at_time_of_sale)[T.D7]</th>      <td>-7.515e+06</td> <td> 1.29e+07</td> <td>   -0.585</td> <td> 0.559</td> <td>-3.27e+07  1.77e+07</td>\n",
       "</tr>\n",
       "<tr>\n",
       "  <th>C(building_class_at_time_of_sale)[T.D8]</th>      <td> 1.169e+07</td> <td> 1.51e+07</td> <td>    0.776</td> <td> 0.438</td> <td>-1.79e+07  4.12e+07</td>\n",
       "</tr>\n",
       "<tr>\n",
       "  <th>C(building_class_at_time_of_sale)[T.D9]</th>      <td> 3.803e+05</td> <td> 1.32e+07</td> <td>    0.029</td> <td> 0.977</td> <td>-2.56e+07  2.63e+07</td>\n",
       "</tr>\n",
       "<tr>\n",
       "  <th>C(building_class_at_time_of_sale)[T.H3]</th>      <td>-7.472e+06</td> <td>  2.3e+07</td> <td>   -0.325</td> <td> 0.745</td> <td>-5.26e+07  3.76e+07</td>\n",
       "</tr>\n",
       "<tr>\n",
       "  <th>C(building_class_at_time_of_sale)[T.HR]</th>      <td> -2.43e+06</td> <td> 2.15e+07</td> <td>   -0.113</td> <td> 0.910</td> <td>-4.46e+07  3.97e+07</td>\n",
       "</tr>\n",
       "<tr>\n",
       "  <th>C(building_class_at_time_of_sale)[T.HS]</th>      <td> 4.924e+07</td> <td>  1.8e+07</td> <td>    2.733</td> <td> 0.006</td> <td> 1.39e+07  8.46e+07</td>\n",
       "</tr>\n",
       "<tr>\n",
       "  <th>C(building_class_at_time_of_sale)[T.J5]</th>      <td> 5.547e+05</td> <td> 2.16e+07</td> <td>    0.026</td> <td> 0.979</td> <td>-4.17e+07  4.29e+07</td>\n",
       "</tr>\n",
       "<tr>\n",
       "  <th>C(building_class_at_time_of_sale)[T.K2]</th>      <td>-4.271e+06</td> <td> 2.15e+07</td> <td>   -0.198</td> <td> 0.843</td> <td>-4.65e+07   3.8e+07</td>\n",
       "</tr>\n",
       "<tr>\n",
       "  <th>C(building_class_at_time_of_sale)[T.K4]</th>      <td> 2.101e+06</td> <td>  1.3e+07</td> <td>    0.162</td> <td> 0.871</td> <td>-2.33e+07  2.75e+07</td>\n",
       "</tr>\n",
       "<tr>\n",
       "  <th>C(building_class_at_time_of_sale)[T.K7]</th>      <td> 2.134e+06</td> <td> 2.14e+07</td> <td>    0.100</td> <td> 0.920</td> <td>-3.98e+07  4.41e+07</td>\n",
       "</tr>\n",
       "<tr>\n",
       "  <th>C(building_class_at_time_of_sale)[T.K9]</th>      <td> 1.716e+07</td> <td>  1.7e+07</td> <td>    1.012</td> <td> 0.312</td> <td>-1.61e+07  5.04e+07</td>\n",
       "</tr>\n",
       "<tr>\n",
       "  <th>C(building_class_at_time_of_sale)[T.L8]</th>      <td>-1.354e+06</td> <td> 1.63e+07</td> <td>   -0.083</td> <td> 0.934</td> <td>-3.34e+07  3.07e+07</td>\n",
       "</tr>\n",
       "<tr>\n",
       "  <th>C(building_class_at_time_of_sale)[T.L9]</th>      <td> 1.545e+07</td> <td> 1.54e+07</td> <td>    1.005</td> <td> 0.315</td> <td>-1.47e+07  4.56e+07</td>\n",
       "</tr>\n",
       "<tr>\n",
       "  <th>C(building_class_at_time_of_sale)[T.M2]</th>      <td> 3.287e+07</td> <td> 2.14e+07</td> <td>    1.532</td> <td> 0.126</td> <td>-9.23e+06   7.5e+07</td>\n",
       "</tr>\n",
       "<tr>\n",
       "  <th>C(building_class_at_time_of_sale)[T.O7]</th>      <td> 1.378e+07</td> <td> 2.18e+07</td> <td>    0.632</td> <td> 0.528</td> <td> -2.9e+07  5.66e+07</td>\n",
       "</tr>\n",
       "<tr>\n",
       "  <th>C(building_class_at_time_of_sale)[T.O8]</th>      <td>-2.358e+06</td> <td> 2.16e+07</td> <td>   -0.109</td> <td> 0.913</td> <td>-4.47e+07     4e+07</td>\n",
       "</tr>\n",
       "<tr>\n",
       "  <th>C(building_class_at_time_of_sale)[T.O9]</th>      <td>-6.141e+05</td> <td>  1.8e+07</td> <td>   -0.034</td> <td> 0.973</td> <td>-3.59e+07  3.47e+07</td>\n",
       "</tr>\n",
       "<tr>\n",
       "  <th>C(building_class_at_time_of_sale)[T.P2]</th>      <td>-8.515e+05</td> <td> 2.16e+07</td> <td>   -0.039</td> <td> 0.969</td> <td>-4.32e+07  4.15e+07</td>\n",
       "</tr>\n",
       "<tr>\n",
       "  <th>C(building_class_at_time_of_sale)[T.R4]</th>      <td>-3.093e+07</td> <td> 2.16e+07</td> <td>   -1.434</td> <td> 0.152</td> <td>-7.33e+07  1.14e+07</td>\n",
       "</tr>\n",
       "<tr>\n",
       "  <th>C(building_class_at_time_of_sale)[T.R9]</th>      <td>-2.302e+08</td> <td> 2.32e+07</td> <td>   -9.925</td> <td> 0.000</td> <td>-2.76e+08 -1.85e+08</td>\n",
       "</tr>\n",
       "<tr>\n",
       "  <th>C(building_class_at_time_of_sale)[T.RR]</th>      <td>-6.677e+06</td> <td> 1.45e+07</td> <td>   -0.461</td> <td> 0.645</td> <td>-3.51e+07  2.18e+07</td>\n",
       "</tr>\n",
       "<tr>\n",
       "  <th>C(building_class_at_time_of_sale)[T.S1]</th>      <td> 2.347e+06</td> <td> 1.37e+07</td> <td>    0.171</td> <td> 0.864</td> <td>-2.46e+07  2.93e+07</td>\n",
       "</tr>\n",
       "<tr>\n",
       "  <th>C(building_class_at_time_of_sale)[T.S2]</th>      <td> 3.786e+06</td> <td> 1.31e+07</td> <td>    0.288</td> <td> 0.773</td> <td> -2.2e+07  2.96e+07</td>\n",
       "</tr>\n",
       "<tr>\n",
       "  <th>C(building_class_at_time_of_sale)[T.S3]</th>      <td> 3.387e+06</td> <td> 1.32e+07</td> <td>    0.258</td> <td> 0.797</td> <td>-2.24e+07  2.92e+07</td>\n",
       "</tr>\n",
       "<tr>\n",
       "  <th>C(building_class_at_time_of_sale)[T.S4]</th>      <td> 1.086e+06</td> <td> 1.34e+07</td> <td>    0.081</td> <td> 0.935</td> <td>-2.52e+07  2.74e+07</td>\n",
       "</tr>\n",
       "<tr>\n",
       "  <th>C(building_class_at_time_of_sale)[T.S5]</th>      <td>-1.278e+06</td> <td> 1.35e+07</td> <td>   -0.094</td> <td> 0.925</td> <td>-2.78e+07  2.53e+07</td>\n",
       "</tr>\n",
       "<tr>\n",
       "  <th>C(building_class_at_time_of_sale)[T.S9]</th>      <td> 2.382e+06</td> <td> 1.29e+07</td> <td>    0.184</td> <td> 0.854</td> <td> -2.3e+07  2.78e+07</td>\n",
       "</tr>\n",
       "<tr>\n",
       "  <th>gross_square_feet</th>                            <td>  417.3474</td> <td>   28.967</td> <td>   14.408</td> <td> 0.000</td> <td>  360.497   474.198</td>\n",
       "</tr>\n",
       "<tr>\n",
       "  <th>total_units</th>                                  <td> 6.435e+04</td> <td> 3.51e+04</td> <td>    1.834</td> <td> 0.067</td> <td>-4501.597  1.33e+05</td>\n",
       "</tr>\n",
       "</table>\n",
       "<table class=\"simpletable\">\n",
       "<tr>\n",
       "  <th>Omnibus:</th>       <td>1083.782</td> <th>  Durbin-Watson:     </th>  <td>   1.837</td> \n",
       "</tr>\n",
       "<tr>\n",
       "  <th>Prob(Omnibus):</th>  <td> 0.000</td>  <th>  Jarque-Bera (JB):  </th> <td>479903.214</td>\n",
       "</tr>\n",
       "<tr>\n",
       "  <th>Skew:</th>           <td> 4.536</td>  <th>  Prob(JB):          </th>  <td>    0.00</td> \n",
       "</tr>\n",
       "<tr>\n",
       "  <th>Kurtosis:</th>       <td>110.370</td> <th>  Cond. No.          </th>  <td>9.69e+06</td> \n",
       "</tr>\n",
       "</table>"
      ],
      "text/plain": [
       "<class 'statsmodels.iolib.summary.Summary'>\n",
       "\"\"\"\n",
       "                            OLS Regression Results                            \n",
       "==============================================================================\n",
       "Dep. Variable:             sale_price   R-squared:                       0.724\n",
       "Model:                            OLS   Adj. R-squared:                  0.696\n",
       "Method:                 Least Squares   F-statistic:                     26.55\n",
       "Date:                Mon, 31 Aug 2015   Prob (F-statistic):          5.03e-196\n",
       "Time:                        09:06:10   Log-Likelihood:                -17894.\n",
       "No. Observations:                 992   AIC:                         3.597e+04\n",
       "Df Residuals:                     902   BIC:                         3.641e+04\n",
       "Df Model:                          89                                         \n",
       "Covariance Type:            nonrobust                                         \n",
       "================================================================================================================\n",
       "                                                   coef    std err          t      P>|t|      [95.0% Conf. Int.]\n",
       "----------------------------------------------------------------------------------------------------------------\n",
       "Intercept                                     2.095e+06   1.31e+07      0.160      0.873     -2.36e+07  2.78e+07\n",
       "C(neighborhood)[T.CHELSEA                  ]  4.985e+06   5.17e+06      0.965      0.335     -5.15e+06  1.51e+07\n",
       "C(neighborhood)[T.CHINATOWN                ] -1.589e+06   6.73e+06     -0.236      0.813     -1.48e+07  1.16e+07\n",
       "C(neighborhood)[T.CIVIC CENTER             ] -8.051e+06   1.39e+07     -0.579      0.563     -3.54e+07  1.93e+07\n",
       "C(neighborhood)[T.CLINTON                  ] -1.713e+06   6.08e+06     -0.282      0.778     -1.36e+07  1.02e+07\n",
       "C(neighborhood)[T.EAST VILLAGE             ] -9.419e+06   5.53e+06     -1.703      0.089     -2.03e+07  1.44e+06\n",
       "C(neighborhood)[T.FASHION                  ]  1.021e+07   9.92e+06      1.029      0.304     -9.26e+06  2.97e+07\n",
       "C(neighborhood)[T.FINANCIAL                ]  2.443e+05   7.43e+06      0.033      0.974     -1.43e+07  1.48e+07\n",
       "C(neighborhood)[T.FLATIRON                 ]   7.55e+06    9.5e+06      0.795      0.427     -1.11e+07  2.62e+07\n",
       "C(neighborhood)[T.GRAMERCY                 ]  2.454e+06   6.16e+06      0.398      0.690     -9.64e+06  1.45e+07\n",
       "C(neighborhood)[T.GREENWICH VILLAGE-CENTRAL]  6.685e+06   5.31e+06      1.259      0.208     -3.74e+06  1.71e+07\n",
       "C(neighborhood)[T.GREENWICH VILLAGE-WEST   ]  5.517e+06   4.79e+06      1.152      0.250     -3.88e+06  1.49e+07\n",
       "C(neighborhood)[T.HARLEM-CENTRAL           ] -4.796e+06   4.34e+06     -1.106      0.269     -1.33e+07  3.72e+06\n",
       "C(neighborhood)[T.HARLEM-EAST              ] -8.494e+06   4.93e+06     -1.724      0.085     -1.82e+07  1.18e+06\n",
       "C(neighborhood)[T.HARLEM-UPPER             ] -3.938e+06   4.76e+06     -0.828      0.408     -1.33e+07   5.4e+06\n",
       "C(neighborhood)[T.HARLEM-WEST              ]  -4.68e+06   7.15e+06     -0.654      0.513     -1.87e+07  9.36e+06\n",
       "C(neighborhood)[T.INWOOD                   ]  -7.11e+06   5.51e+06     -1.289      0.198     -1.79e+07  3.71e+06\n",
       "C(neighborhood)[T.JAVITS CENTER            ] -1.444e+06   1.79e+07     -0.081      0.936     -3.66e+07  3.37e+07\n",
       "C(neighborhood)[T.KIPS BAY                 ]  1.982e+07   9.02e+06      2.197      0.028      2.12e+06  3.75e+07\n",
       "C(neighborhood)[T.LITTLE ITALY             ]  7.377e+06   6.58e+06      1.122      0.262     -5.53e+06  2.03e+07\n",
       "C(neighborhood)[T.LOWER EAST SIDE          ] -3.015e+05   5.32e+06     -0.057      0.955     -1.07e+07  1.01e+07\n",
       "C(neighborhood)[T.MANHATTAN VALLEY         ] -4.381e+06   6.23e+06     -0.703      0.482     -1.66e+07  7.85e+06\n",
       "C(neighborhood)[T.MIDTOWN CBD              ]  3.067e+06   8.63e+06      0.355      0.722     -1.39e+07     2e+07\n",
       "C(neighborhood)[T.MIDTOWN EAST             ] -3.732e+06   5.56e+06     -0.672      0.502     -1.46e+07  7.17e+06\n",
       "C(neighborhood)[T.MIDTOWN WEST             ]  1.073e+07   6.34e+06      1.692      0.091     -1.72e+06  2.32e+07\n",
       "C(neighborhood)[T.MORNINGSIDE HEIGHTS      ] -1.145e+06   9.66e+06     -0.119      0.906     -2.01e+07  1.78e+07\n",
       "C(neighborhood)[T.MURRAY HILL              ]  1.725e+06   5.09e+06      0.339      0.735     -8.26e+06  1.17e+07\n",
       "C(neighborhood)[T.SOHO                     ]  2.838e+05   5.81e+06      0.049      0.961     -1.11e+07  1.17e+07\n",
       "C(neighborhood)[T.SOUTHBRIDGE              ] -3.535e+06   8.92e+06     -0.396      0.692      -2.1e+07   1.4e+07\n",
       "C(neighborhood)[T.TRIBECA                  ]   1.15e+06   9.84e+06      0.117      0.907     -1.82e+07  2.05e+07\n",
       "C(neighborhood)[T.UPPER EAST SIDE (59-79)  ]  7.714e+06   4.69e+06      1.646      0.100     -1.48e+06  1.69e+07\n",
       "C(neighborhood)[T.UPPER EAST SIDE (79-96)  ]  5.297e+06   4.75e+06      1.116      0.265     -4.02e+06  1.46e+07\n",
       "C(neighborhood)[T.UPPER EAST SIDE (96-110) ] -1.742e+07   1.32e+07     -1.318      0.188     -4.34e+07  8.53e+06\n",
       "C(neighborhood)[T.UPPER WEST SIDE (59-79)  ] -1.316e+06   5.46e+06     -0.241      0.810      -1.2e+07   9.4e+06\n",
       "C(neighborhood)[T.UPPER WEST SIDE (79-96)  ]  9.535e+06   4.98e+06      1.915      0.056     -2.38e+05  1.93e+07\n",
       "C(neighborhood)[T.UPPER WEST SIDE (96-116) ]  3.155e+06   6.91e+06      0.456      0.648     -1.04e+07  1.67e+07\n",
       "C(neighborhood)[T.WASHINGTON HEIGHTS LOWER ] -5.196e+06   4.72e+06     -1.101      0.271     -1.45e+07  4.07e+06\n",
       "C(neighborhood)[T.WASHINGTON HEIGHTS UPPER ] -8.362e+06   5.08e+06     -1.646      0.100     -1.83e+07  1.61e+06\n",
       "C(building_class_at_time_of_sale)[T.A4]       1.702e+06   1.27e+07      0.134      0.893     -2.31e+07  2.66e+07\n",
       "C(building_class_at_time_of_sale)[T.A5]        1.07e+06   1.41e+07      0.076      0.940     -2.66e+07  2.88e+07\n",
       "C(building_class_at_time_of_sale)[T.A9]       5.226e+05   1.33e+07      0.039      0.969     -2.55e+07  2.65e+07\n",
       "C(building_class_at_time_of_sale)[T.B1]       1.916e+06   1.27e+07      0.151      0.880      -2.3e+07  2.68e+07\n",
       "C(building_class_at_time_of_sale)[T.B2]       2.011e+06    1.6e+07      0.126      0.900     -2.94e+07  3.34e+07\n",
       "C(building_class_at_time_of_sale)[T.B3]      -1.183e+06   1.31e+07     -0.091      0.928     -2.68e+07  2.45e+07\n",
       "C(building_class_at_time_of_sale)[T.B9]       1.824e+04    1.3e+07      0.001      0.999     -2.55e+07  2.55e+07\n",
       "C(building_class_at_time_of_sale)[T.C0]       1.765e+06   1.27e+07      0.139      0.889     -2.31e+07  2.67e+07\n",
       "C(building_class_at_time_of_sale)[T.C1]      -7.286e+05   1.25e+07     -0.058      0.954     -2.53e+07  2.38e+07\n",
       "C(building_class_at_time_of_sale)[T.C2]       1.112e+05   1.29e+07      0.009      0.993     -2.53e+07  2.55e+07\n",
       "C(building_class_at_time_of_sale)[T.C3]       6.861e+06   1.28e+07      0.537      0.592     -1.82e+07   3.2e+07\n",
       "C(building_class_at_time_of_sale)[T.C4]       6.958e+05   1.26e+07      0.055      0.956     -2.41e+07  2.55e+07\n",
       "C(building_class_at_time_of_sale)[T.C5]       5.573e+05   1.26e+07      0.044      0.965     -2.41e+07  2.52e+07\n",
       "C(building_class_at_time_of_sale)[T.C6]      -5.129e+06   1.48e+07     -0.347      0.729     -3.41e+07  2.39e+07\n",
       "C(building_class_at_time_of_sale)[T.C7]       1.169e+06   1.25e+07      0.093      0.926     -2.34e+07  2.57e+07\n",
       "C(building_class_at_time_of_sale)[T.C9]       3.115e+06   1.75e+07      0.178      0.859     -3.12e+07  3.75e+07\n",
       "C(building_class_at_time_of_sale)[T.D0]       6.041e+06    1.8e+07      0.336      0.737     -2.93e+07  4.14e+07\n",
       "C(building_class_at_time_of_sale)[T.D1]      -2.881e+06   1.28e+07     -0.225      0.822      -2.8e+07  2.23e+07\n",
       "C(building_class_at_time_of_sale)[T.D2]       2.028e+07   1.48e+07      1.370      0.171     -8.78e+06  4.93e+07\n",
       "C(building_class_at_time_of_sale)[T.D3]       8.748e+05   1.46e+07      0.060      0.952     -2.79e+07  2.96e+07\n",
       "C(building_class_at_time_of_sale)[T.D4]      -1.771e+07   1.42e+07     -1.243      0.214     -4.57e+07  1.02e+07\n",
       "C(building_class_at_time_of_sale)[T.D5]       4.195e+06   1.58e+07      0.266      0.791     -2.68e+07  3.52e+07\n",
       "C(building_class_at_time_of_sale)[T.D6]       2.085e+07   1.32e+07      1.576      0.115     -5.12e+06  4.68e+07\n",
       "C(building_class_at_time_of_sale)[T.D7]      -7.515e+06   1.29e+07     -0.585      0.559     -3.27e+07  1.77e+07\n",
       "C(building_class_at_time_of_sale)[T.D8]       1.169e+07   1.51e+07      0.776      0.438     -1.79e+07  4.12e+07\n",
       "C(building_class_at_time_of_sale)[T.D9]       3.803e+05   1.32e+07      0.029      0.977     -2.56e+07  2.63e+07\n",
       "C(building_class_at_time_of_sale)[T.H3]      -7.472e+06    2.3e+07     -0.325      0.745     -5.26e+07  3.76e+07\n",
       "C(building_class_at_time_of_sale)[T.HR]       -2.43e+06   2.15e+07     -0.113      0.910     -4.46e+07  3.97e+07\n",
       "C(building_class_at_time_of_sale)[T.HS]       4.924e+07    1.8e+07      2.733      0.006      1.39e+07  8.46e+07\n",
       "C(building_class_at_time_of_sale)[T.J5]       5.547e+05   2.16e+07      0.026      0.979     -4.17e+07  4.29e+07\n",
       "C(building_class_at_time_of_sale)[T.K2]      -4.271e+06   2.15e+07     -0.198      0.843     -4.65e+07   3.8e+07\n",
       "C(building_class_at_time_of_sale)[T.K4]       2.101e+06    1.3e+07      0.162      0.871     -2.33e+07  2.75e+07\n",
       "C(building_class_at_time_of_sale)[T.K7]       2.134e+06   2.14e+07      0.100      0.920     -3.98e+07  4.41e+07\n",
       "C(building_class_at_time_of_sale)[T.K9]       1.716e+07    1.7e+07      1.012      0.312     -1.61e+07  5.04e+07\n",
       "C(building_class_at_time_of_sale)[T.L8]      -1.354e+06   1.63e+07     -0.083      0.934     -3.34e+07  3.07e+07\n",
       "C(building_class_at_time_of_sale)[T.L9]       1.545e+07   1.54e+07      1.005      0.315     -1.47e+07  4.56e+07\n",
       "C(building_class_at_time_of_sale)[T.M2]       3.287e+07   2.14e+07      1.532      0.126     -9.23e+06   7.5e+07\n",
       "C(building_class_at_time_of_sale)[T.O7]       1.378e+07   2.18e+07      0.632      0.528      -2.9e+07  5.66e+07\n",
       "C(building_class_at_time_of_sale)[T.O8]      -2.358e+06   2.16e+07     -0.109      0.913     -4.47e+07     4e+07\n",
       "C(building_class_at_time_of_sale)[T.O9]      -6.141e+05    1.8e+07     -0.034      0.973     -3.59e+07  3.47e+07\n",
       "C(building_class_at_time_of_sale)[T.P2]      -8.515e+05   2.16e+07     -0.039      0.969     -4.32e+07  4.15e+07\n",
       "C(building_class_at_time_of_sale)[T.R4]      -3.093e+07   2.16e+07     -1.434      0.152     -7.33e+07  1.14e+07\n",
       "C(building_class_at_time_of_sale)[T.R9]      -2.302e+08   2.32e+07     -9.925      0.000     -2.76e+08 -1.85e+08\n",
       "C(building_class_at_time_of_sale)[T.RR]      -6.677e+06   1.45e+07     -0.461      0.645     -3.51e+07  2.18e+07\n",
       "C(building_class_at_time_of_sale)[T.S1]       2.347e+06   1.37e+07      0.171      0.864     -2.46e+07  2.93e+07\n",
       "C(building_class_at_time_of_sale)[T.S2]       3.786e+06   1.31e+07      0.288      0.773      -2.2e+07  2.96e+07\n",
       "C(building_class_at_time_of_sale)[T.S3]       3.387e+06   1.32e+07      0.258      0.797     -2.24e+07  2.92e+07\n",
       "C(building_class_at_time_of_sale)[T.S4]       1.086e+06   1.34e+07      0.081      0.935     -2.52e+07  2.74e+07\n",
       "C(building_class_at_time_of_sale)[T.S5]      -1.278e+06   1.35e+07     -0.094      0.925     -2.78e+07  2.53e+07\n",
       "C(building_class_at_time_of_sale)[T.S9]       2.382e+06   1.29e+07      0.184      0.854      -2.3e+07  2.78e+07\n",
       "gross_square_feet                              417.3474     28.967     14.408      0.000       360.497   474.198\n",
       "total_units                                   6.435e+04   3.51e+04      1.834      0.067     -4501.597  1.33e+05\n",
       "==============================================================================\n",
       "Omnibus:                     1083.782   Durbin-Watson:                   1.837\n",
       "Prob(Omnibus):                  0.000   Jarque-Bera (JB):           479903.214\n",
       "Skew:                           4.536   Prob(JB):                         0.00\n",
       "Kurtosis:                     110.370   Cond. No.                     9.69e+06\n",
       "==============================================================================\n",
       "\n",
       "Warnings:\n",
       "[1] Standard Errors assume that the covariance matrix of the errors is correctly specified.\n",
       "[2] The condition number is large, 9.69e+06. This might indicate that there are\n",
       "strong multicollinearity or other numerical problems.\n",
       "\"\"\""
      ]
     },
     "execution_count": 101,
     "metadata": {},
     "output_type": "execute_result"
    }
   ],
   "source": [
    "#formula = ('sale_price ~ C(neighborhood)')\n",
    "#formula = ('sale_price ~ C(building_class_category)')\n",
    "#formula = ('sale_price ~ gross_square_feet')\n",
    "#formula = ('sale_price ~ total_units')\n",
    "#formula = ('sale_price ~ gross_square_feet + total_units')\n",
    "formula = ('sale_price ~ C(neighborhood) + C(building_class_at_time_of_sale) + gross_square_feet + total_units')\n",
    "model = smf.ols(formula, subset_df).fit()\n",
    "model.summary()"
   ]
  },
  {
   "cell_type": "code",
   "execution_count": 102,
   "metadata": {
    "collapsed": false
   },
   "outputs": [
    {
     "data": {
      "text/plain": [
       "<matplotlib.axes._subplots.AxesSubplot at 0x7f29c1631890>"
      ]
     },
     "execution_count": 102,
     "metadata": {},
     "output_type": "execute_result"
    },
    {
     "data": {
      "image/png": "[encoded data removed]",
      "text/plain": [
       "<matplotlib.figure.Figure at 0x7f29c171b0d0>"
      ]
     },
     "metadata": {},
     "output_type": "display_data"
    }
   ],
   "source": [
    "sns.regplot(model.fittedvalues, model.resid)"
   ]
  },
  {
   "cell_type": "markdown",
   "metadata": {
    "collapsed": false
   },
   "source": [
    "### k-NN"
   ]
  },
  {
   "cell_type": "code",
   "execution_count": 104,
   "metadata": {
    "collapsed": false
   },
   "outputs": [
    {
     "name": "stdout",
     "output_type": "stream",
     "text": [
      "0.870967741935\n"
     ]
    }
   ],
   "source": [
    "predictors = ['sale_price', 'total_units']\n",
    "dfTrain, dfTest = train_test_split(subset_df)\n",
    "knn = KNeighborsClassifier(n_neighbors=5)\n",
    "knn.fit(dfTrain[predictors], dfTrain['neighborhood'])\n",
    "expected = dfTest['neighborhood']\n",
    "predicted = knn.predict(dfTest[predictors])\n",
    "error_rate = (predicted != expected).mean()\n",
    "print error_rate"
   ]
  },
  {
   "cell_type": "code",
   "execution_count": null,
   "metadata": {
    "collapsed": false
   },
   "outputs": [],
   "source": []
  },
  {
   "cell_type": "code",
   "execution_count": null,
   "metadata": {
    "collapsed": true
   },
   "outputs": [],
   "source": []
  }
 ],
 "metadata": {
  "kernelspec": {
   "display_name": "Python 2",
   "language": "python2",
   "name": "python2"
  },
  "language_info": {
   "codemirror_mode": {
    "name": "ipython",
    "version": 2
   },
   "file_extension": ".py",
   "mimetype": "text/x-python",
   "name": "python",
   "nbconvert_exporter": "python",
   "pygments_lexer": "ipython2",
   "version": "2.7.10"
  },
  "name": "NY_Housing.ipynb"
 },
 "nbformat": 4,
 "nbformat_minor": 0
}
