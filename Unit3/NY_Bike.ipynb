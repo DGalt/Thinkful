{
 "cells": [
  {
   "cell_type": "markdown",
   "metadata": {
    "collapsed": true,
    "tags": [
     "worksheet-0"
    ]
   },
   "source": [
    "## How New Yorkers Bike"
   ]
  },
  {
   "cell_type": "markdown",
   "metadata": {
    "collapsed": true,
    "tags": [
     "worksheet-0"
    ]
   },
   "source": [
    "###### Goal: record number of bikes available every minute in NYC for an hour, in order to determine which station is most active\n",
    "- activity defined as total number of bikes taken in or out within the hour (so, 2 taken out + 4 returned = 6 total)"
   ]
  },
  {
   "cell_type": "markdown",
   "metadata": {
    "collapsed": true,
    "tags": [
     "worksheet-0"
    ]
   },
   "source": [
    "### Getting Citi Bike data"
   ]
  },
  {
   "cell_type": "code",
   "execution_count": 1,
   "metadata": {
    "collapsed": false,
    "tags": [
     "worksheet-0"
    ]
   },
   "outputs": [],
   "source": [
    "#requests allows us to download files from a URL\n",
    "import requests\n",
    "r = requests.get('http://www.citibikenyc.com/stations/json')"
   ]
  },
  {
   "cell_type": "markdown",
   "metadata": {
    "collapsed": true,
    "tags": [
     "worksheet-0"
    ]
   },
   "source": [
    "### Cleaning Citi Bike data"
   ]
  },
  {
   "cell_type": "code",
   "execution_count": 2,
   "metadata": {
    "collapsed": false,
    "tags": [
     "worksheet-0"
    ]
   },
   "outputs": [
    {
     "name": "stdout",
     "output_type": "stream",
     "text": [
      "[u'executionTime', u'stationBeanList']\n",
      "2015-08-16 11:52:23 AM\n",
      "Number of stations: 507\n"
     ]
    }
   ],
   "source": [
    "#r.text will give basic view of what's contained in r\n",
    "#print r.text\n",
    "\n",
    "#data is formatted as JSON  - access elements of JSON in same way access elements of dict (i.e. with keys)\n",
    "print r.json().keys()\n",
    "\n",
    "#executionTime key returns time when file was created as a string\n",
    "print r.json()['executionTime']\n",
    "\n",
    "#stationBeanList key returns list of stations\n",
    "print \"Number of stations: {}\".format(len(r.json()['stationBeanList']))\n"
   ]
  },
  {
   "cell_type": "code",
   "execution_count": 3,
   "metadata": {
    "collapsed": false,
    "tags": [
     "worksheet-0"
    ]
   },
   "outputs": [
    {
     "data": {
      "text/plain": [
       "[u'availableDocks',\n",
       " u'totalDocks',\n",
       " u'city',\n",
       " u'altitude',\n",
       " u'stAddress2',\n",
       " u'longitude',\n",
       " u'lastCommunicationTime',\n",
       " u'postalCode',\n",
       " u'statusValue',\n",
       " u'testStation',\n",
       " u'stAddress1',\n",
       " u'stationName',\n",
       " u'landMark',\n",
       " u'latitude',\n",
       " u'statusKey',\n",
       " u'availableBikes',\n",
       " u'id',\n",
       " u'location']"
      ]
     },
     "execution_count": 3,
     "metadata": {},
     "output_type": "execute_result"
    }
   ],
   "source": [
    "#create list of all the fields associated with the stations \n",
    "key_list = [] #unique list of keys for each station listing\n",
    "for station in r.json()['stationBeanList']:\n",
    "    for k in station.keys():\n",
    "        if k not in key_list:\n",
    "            key_list.append(k)\n",
    "key_list"
   ]
  },
  {
   "cell_type": "code",
   "execution_count": 4,
   "metadata": {
    "collapsed": false,
    "tags": [
     "worksheet-0"
    ]
   },
   "outputs": [
    {
     "data": {
      "text/plain": [
       "  altitude  availableBikes  availableDocks city   id landMark  \\\n",
       "0                        0              39        72            \n",
       "1                        6              22        79            \n",
       "2                       15              11        82            \n",
       "3                       62               0        83            \n",
       "4                       12              25       116            \n",
       "\n",
       "    lastCommunicationTime   latitude location  longitude postalCode  \\\n",
       "0  2015-08-16 11:49:44 AM  40.767272          -73.993929              \n",
       "1  2015-08-16 11:48:59 AM  40.719116          -74.006667              \n",
       "2  2015-08-16 11:50:46 AM  40.711174          -74.000165              \n",
       "3  2015-08-16 11:48:47 AM  40.683826          -73.976323              \n",
       "4  2015-08-16 11:51:07 AM  40.741776          -74.001497              \n",
       "\n",
       "                      stAddress1 stAddress2                    stationName  \\\n",
       "0               W 52 St & 11 Ave                          W 52 St & 11 Ave   \n",
       "1       Franklin St & W Broadway                  Franklin St & W Broadway   \n",
       "2         St James Pl & Pearl St                    St James Pl & Pearl St   \n",
       "3  Atlantic Ave & Fort Greene Pl             Atlantic Ave & Fort Greene Pl   \n",
       "4                W 17 St & 8 Ave                           W 17 St & 8 Ave   \n",
       "\n",
       "   statusKey statusValue testStation  totalDocks  \n",
       "0          1  In Service       False          39  \n",
       "1          1  In Service       False          33  \n",
       "2          1  In Service       False          27  \n",
       "3          1  In Service       False          62  \n",
       "4          1  In Service       False          39  "
      ]
     },
     "execution_count": 4,
     "metadata": {},
     "output_type": "execute_result"
    }
   ],
   "source": [
    "#convert data in df\n",
    "from pandas.io.json import json_normalize\n",
    "\n",
    "df = json_normalize(r.json()['stationBeanList'])\n",
    "df.head()"
   ]
  },
  {
   "cell_type": "code",
   "execution_count": 5,
   "metadata": {
    "collapsed": false,
    "tags": [
     "worksheet-0"
    ]
   },
   "outputs": [
    {
     "data": {
      "text/plain": [
       "<matplotlib.axes._subplots.AxesSubplot at 0x7fdacf48cc50>"
      ]
     },
     "execution_count": 5,
     "metadata": {},
     "output_type": "execute_result"
    },
    {
     "data": {
      "text/plain": [
       "<matplotlib.figure.Figure at 0x7fdacf48c610>"
      ]
     },
     "metadata": {},
     "output_type": "display_data"
    }
   ],
   "source": [
    "#look at range for available bikes\n",
    "import matplotlib.pyplot as plt\n",
    "import pandas as pd\n",
    "%matplotlib inline\n",
    "\n",
    "df['availableBikes'].hist()"
   ]
  },
  {
   "cell_type": "code",
   "execution_count": 6,
   "metadata": {
    "collapsed": false,
    "tags": [
     "worksheet-0"
    ]
   },
   "outputs": [
    {
     "data": {
      "text/plain": [
       "<matplotlib.axes._subplots.AxesSubplot at 0x7fdacf400810>"
      ]
     },
     "execution_count": 6,
     "metadata": {},
     "output_type": "execute_result"
    },
    {
     "data": {
      "text/plain": [
       "<matplotlib.figure.Figure at 0x7fdadaccf4d0>"
      ]
     },
     "metadata": {},
     "output_type": "display_data"
    }
   ],
   "source": [
    "#look at range for available docks\n",
    "df['availableDocks'].hist()"
   ]
  },
  {
   "cell_type": "code",
   "execution_count": 8,
   "metadata": {
    "collapsed": false,
    "tags": [
     "worksheet-0"
    ]
   },
   "outputs": [
    {
     "data": {
      "text/plain": [
       "<matplotlib.axes._subplots.AxesSubplot at 0x7fdacf1f1510>"
      ]
     },
     "execution_count": 8,
     "metadata": {},
     "output_type": "execute_result"
    },
    {
     "data": {
      "text/plain": [
       "<matplotlib.figure.Figure at 0x7fdacf17a450>"
      ]
     },
     "metadata": {},
     "output_type": "display_data"
    }
   ],
   "source": [
    "df['totalDocks'].hist()"
   ]
  },
  {
   "cell_type": "code",
   "execution_count": 9,
   "metadata": {
    "collapsed": false,
    "tags": [
     "worksheet-0"
    ]
   },
   "outputs": [
    {
     "name": "stdout",
     "output_type": "stream",
     "text": [
      "<class 'pandas.core.frame.DataFrame'>\n",
      "Int64Index: 507 entries, 0 to 506\n",
      "Data columns (total 18 columns):\n",
      "altitude                 507 non-null object\n",
      "availableBikes           507 non-null int64\n",
      "availableDocks           507 non-null int64\n",
      "city                     507 non-null object\n",
      "id                       507 non-null int64\n",
      "landMark                 507 non-null object\n",
      "lastCommunicationTime    507 non-null object\n",
      "latitude                 507 non-null float64\n",
      "location                 507 non-null object\n",
      "longitude                507 non-null float64\n",
      "postalCode               507 non-null object\n",
      "stAddress1               507 non-null object\n",
      "stAddress2               507 non-null object\n",
      "stationName              507 non-null object\n",
      "statusKey                507 non-null int64\n",
      "statusValue              507 non-null object\n",
      "testStation              507 non-null bool\n",
      "totalDocks               507 non-null int64\n",
      "dtypes: bool(1), float64(2), int64(5), object(10)\n",
      "memory usage: 71.8+ KB\n",
      "None\n",
      "       availableBikes  availableDocks           id    latitude   longitude  \\\n",
      "count      507.000000      507.000000   507.000000  507.000000  507.000000   \n",
      "mean         9.201183       13.469428  1379.072978   40.727985  -73.983742   \n",
      "std         10.580715       14.382980  1315.193029    0.026923    0.028361   \n",
      "min          0.000000        0.000000    72.000000   40.678907  -74.097516   \n",
      "25%          0.000000        0.000000   341.500000   40.708439  -73.997083   \n",
      "50%          5.000000       10.000000   479.000000   40.725029  -73.982634   \n",
      "75%         16.000000       23.000000  3089.500000   40.748957  -73.963119   \n",
      "max         62.000000       59.000000  3217.000000   40.787209  -73.929891   \n",
      "\n",
      "        statusKey testStation  totalDocks  \n",
      "count  507.000000         507  507.000000  \n",
      "mean     1.635108           0   23.715976  \n",
      "std      0.931970           0   17.988199  \n",
      "min      1.000000       False    0.000000  \n",
      "25%      1.000000           0    0.000000  \n",
      "50%      1.000000           0   27.000000  \n",
      "75%      3.000000           0   37.000000  \n",
      "max      3.000000       False   62.000000  \n"
     ]
    }
   ],
   "source": [
    "print df.info()\n",
    "print df.describe()"
   ]
  },
  {
   "cell_type": "code",
   "execution_count": 10,
   "metadata": {
    "collapsed": false,
    "tags": [
     "worksheet-0"
    ]
   },
   "outputs": [
    {
     "name": "stdout",
     "output_type": "stream",
     "text": [
      "There are 507 stations, 346 in service and 161 not in service\n"
     ]
    }
   ],
   "source": [
    "total = len(df)\n",
    "not_serv = len(df[df.statusValue == \"Not In Service\"])\n",
    "servicing = total - not_serv\n",
    "print \"There are {} stations, {} in service and {} not in service\".format(total, servicing, not_serv)\n"
   ]
  },
  {
   "cell_type": "code",
   "execution_count": 15,
   "metadata": {
    "collapsed": false,
    "tags": [
     "worksheet-0"
    ]
   },
   "outputs": [
    {
     "data": {
      "text/plain": [
       "False"
      ]
     },
     "execution_count": 15,
     "metadata": {},
     "output_type": "execute_result"
    }
   ],
   "source": [
    "#no test stations apparently\n",
    "any(df[df.testStation].values)"
   ]
  },
  {
   "cell_type": "code",
   "execution_count": 12,
   "metadata": {
    "collapsed": false,
    "tags": [
     "worksheet-0"
    ]
   },
   "outputs": [
    {
     "name": "stdout",
     "output_type": "stream",
     "text": [
      "9.20118343195\n",
      "5.0\n",
      "13.4826589595\n",
      "12.0\n"
     ]
    }
   ],
   "source": [
    "print df.availableBikes.mean()\n",
    "print df.availableBikes.median()\n",
    "\n",
    "#if we remove stations that are not in service \n",
    "print df.availableBikes[df.statusValue == \"In Service\"].mean()\n",
    "print df.availableBikes[df.statusValue == \"In Service\"].median()"
   ]
  },
  {
   "cell_type": "code",
   "execution_count": 13,
   "metadata": {
    "collapsed": false,
    "tags": [
     "worksheet-0"
    ]
   },
   "outputs": [
    {
     "name": "stdout",
     "output_type": "stream",
     "text": [
      "12024\n",
      "4665\n",
      "6829\n",
      "11494\n"
     ]
    }
   ],
   "source": [
    "#total docks should equal availableBikes + availableDocks, although it doesn't here\n",
    "print df.totalDocks.sum()\n",
    "print df.availableBikes.sum()\n",
    "print df.availableDocks.sum()\n",
    "\n",
    "print(df.availableDocks.sum() + df.availableBikes.sum())"
   ]
  },
  {
   "cell_type": "markdown",
   "metadata": {
    "collapsed": true,
    "tags": [
     "worksheet-0"
    ]
   },
   "source": [
    "### Store Citi Bike data"
   ]
  },
  {
   "cell_type": "code",
   "execution_count": 39,
   "metadata": {
    "collapsed": false,
    "tags": [
     "worksheet-0"
    ]
   },
   "outputs": [],
   "source": [
    "import sqlite3 as lite\n",
    "\n",
    "con = lite.connect('citi_bike.db')\n",
    "cur = con.cursor()\n",
    "\n",
    "with con:\n",
    "    cur.execute(\"DROP TABLE IF EXISTS citibike_reference\")\n",
    "    cur.execute('''CREATE TABLE citibike_reference\n",
    "    (id INT PRIMARY KEY,\n",
    "    totalDocks INT,\n",
    "    city TEXT,\n",
    "    altitude INT,\n",
    "    stAddress2 TEXT,\n",
    "    longitude NUMERIC,\n",
    "    postalCode TEXT,\n",
    "    testStation TEXT,\n",
    "    stAddress1 TEXT,\n",
    "    stationName TEXT,\n",
    "    landMark TEXT,\n",
    "    latitude NUMERIC,\n",
    "    location TEXT )''')\n",
    "\n",
    "#a prepared SQL statement we're going to execute over and over again\n",
    "sql = \"\"\"INSERT INTO citibike_reference \n",
    "      (id, totalDocks, city, altitude, stAddress2, longitude, postalCode, \n",
    "       testStation, stAddress1, stationName, landMark, latitude, location) \n",
    "      VALUES (?,?,?,?,?,?,?,?,?,?,?,?,?)\"\"\"\n",
    "\n",
    "#for loop to populate values in the database\n",
    "with con:\n",
    "    for station in r.json()['stationBeanList']:\n",
    "        #id, totalDocks, city, altitude, stAddress2, longitude, postalCode, testStation, stAddress1, stationName, landMark, latitude, location)\n",
    "        cur.execute(sql,\n",
    "\t(station['id'],\n",
    "\tstation['totalDocks'],\n",
    "\tstation['city'],\n",
    "\tstation['altitude'],\n",
    "\tstation['stAddress2'],\n",
    "\tstation['longitude'],\n",
    "\tstation['postalCode'],\n",
    "\tstation['testStation'],\n",
    "\tstation['stAddress1'],\n",
    "\tstation['stationName'],\n",
    "\tstation['landMark'],\n",
    "\tstation['latitude'],\n",
    "\tstation['location']))\n",
    "\n",
    "#extract the column from the DataFrame and put them into a list\n",
    "station_ids = df['id'].tolist() \n",
    "\n",
    "# #add the '_' to the station name and also add the data type for SQLite\n",
    "station_ids = ['_' + str(x) + ' INT' for x in station_ids] \n",
    "\n",
    "# #create the table\n",
    "# #in this case, we're concatentating the string and joining all the station ids (now with '_' and 'INT' added)\n",
    "with con:\n",
    "    cur.execute(\"DROP TABLE IF EXISTS available_bikes\")\n",
    "    cur.execute(\"CREATE TABLE available_bikes ( execution_time INT, \" +  \", \".join(station_ids) + \");\")\n",
    "\n",
    "# # a package with datetime objects\n",
    "import time\n",
    "\n",
    "# # a package for parsing a string into a Python datetime object\n",
    "from dateutil.parser import parse \n",
    "\n",
    "import collections\n",
    "\n",
    "\n",
    "#take the string and parse it into a Python datetime object\n",
    "exec_time = parse(r.json()['executionTime'])\n",
    "\n",
    "#add entry for execution time to db\n",
    "with con:\n",
    "    cur.execute('INSERT INTO available_bikes (execution_time) VALUES (?)', (exec_time.strftime('%s'),))\n",
    "\n",
    "id_bikes = collections.defaultdict(int) #defaultdict to store available bikes by station\n",
    "\n",
    "#loop through the stations in the station list\n",
    "for station in r.json()['stationBeanList']:\n",
    "    id_bikes[station['id']] = station['availableBikes']\n",
    "\n",
    "#iterate through the defaultdict to update the values in the database\n",
    "with con:\n",
    "    for k, v in id_bikes.iteritems():\n",
    "        cur.execute(\"UPDATE available_bikes SET _\" + str(k) + \" = \" + str(v) + \" WHERE execution_time = \" + exec_time.strftime('%s') + \";\")"
   ]
  },
  {
   "cell_type": "code",
   "execution_count": 38,
   "metadata": {
    "collapsed": false,
    "tags": [
     "worksheet-0"
    ]
   },
   "outputs": [
    {
     "name": "stdout",
     "output_type": "stream",
     "text": [
      "2015-08-16 11:52:23\n",
      "1439743943\n"
     ]
    }
   ],
   "source": [
    "print exec_time\n",
    "print exec_time.strftime('%s')"
   ]
  },
  {
   "cell_type": "markdown",
   "metadata": {
    "collapsed": true,
    "tags": [
     "worksheet-0"
    ]
   },
   "source": [
    "### Analyzing the Result"
   ]
  },
  {
   "cell_type": "code",
   "execution_count": 1,
   "metadata": {
    "collapsed": false,
    "tags": [
     "worksheet-0"
    ]
   },
   "outputs": [],
   "source": [
    "import pandas as pd\n",
    "import sqlite3 as lite\n",
    "import datetime\n",
    "\n",
    "con = lite.connect('citi_bike.db')\n",
    "cur = con.cursor()\n",
    "\n",
    "df = pd.read_sql_query(\"SELECT * FROM available_bikes ORDER BY execution_time\",con,index_col='execution_time')"
   ]
  },
  {
   "cell_type": "code",
   "execution_count": 2,
   "metadata": {
    "collapsed": false,
    "tags": [
     "worksheet-0"
    ]
   },
   "outputs": [
    {
     "data": {
      "text/html": [
       "<div>\n",
       "<table border=\"1\" class=\"dataframe\">\n",
       "  <thead>\n",
       "    <tr style=\"text-align: right;\">\n",
       "      <th></th>\n",
       "      <th>_72</th>\n",
       "      <th>_79</th>\n",
       "      <th>_82</th>\n",
       "      <th>_83</th>\n",
       "      <th>_116</th>\n",
       "      <th>_119</th>\n",
       "      <th>_120</th>\n",
       "      <th>_127</th>\n",
       "      <th>_128</th>\n",
       "      <th>_137</th>\n",
       "      <th>...</th>\n",
       "      <th>_3208</th>\n",
       "      <th>_3209</th>\n",
       "      <th>_3210</th>\n",
       "      <th>_3211</th>\n",
       "      <th>_3212</th>\n",
       "      <th>_3213</th>\n",
       "      <th>_3214</th>\n",
       "      <th>_3215</th>\n",
       "      <th>_3216</th>\n",
       "      <th>_3217</th>\n",
       "    </tr>\n",
       "    <tr>\n",
       "      <th>execution_time</th>\n",
       "      <th></th>\n",
       "      <th></th>\n",
       "      <th></th>\n",
       "      <th></th>\n",
       "      <th></th>\n",
       "      <th></th>\n",
       "      <th></th>\n",
       "      <th></th>\n",
       "      <th></th>\n",
       "      <th></th>\n",
       "      <th></th>\n",
       "      <th></th>\n",
       "      <th></th>\n",
       "      <th></th>\n",
       "      <th></th>\n",
       "      <th></th>\n",
       "      <th></th>\n",
       "      <th></th>\n",
       "      <th></th>\n",
       "      <th></th>\n",
       "      <th></th>\n",
       "    </tr>\n",
       "  </thead>\n",
       "  <tbody>\n",
       "    <tr>\n",
       "      <th>1439759932</th>\n",
       "      <td>1</td>\n",
       "      <td>4</td>\n",
       "      <td>14</td>\n",
       "      <td>54</td>\n",
       "      <td>8</td>\n",
       "      <td>4</td>\n",
       "      <td>7</td>\n",
       "      <td>6</td>\n",
       "      <td>24</td>\n",
       "      <td>10</td>\n",
       "      <td>...</td>\n",
       "      <td>0</td>\n",
       "      <td>0</td>\n",
       "      <td>0</td>\n",
       "      <td>0</td>\n",
       "      <td>0</td>\n",
       "      <td>0</td>\n",
       "      <td>0</td>\n",
       "      <td>0</td>\n",
       "      <td>0</td>\n",
       "      <td>0</td>\n",
       "    </tr>\n",
       "    <tr>\n",
       "      <th>1439759998</th>\n",
       "      <td>1</td>\n",
       "      <td>4</td>\n",
       "      <td>14</td>\n",
       "      <td>54</td>\n",
       "      <td>9</td>\n",
       "      <td>4</td>\n",
       "      <td>7</td>\n",
       "      <td>6</td>\n",
       "      <td>24</td>\n",
       "      <td>10</td>\n",
       "      <td>...</td>\n",
       "      <td>0</td>\n",
       "      <td>0</td>\n",
       "      <td>0</td>\n",
       "      <td>0</td>\n",
       "      <td>0</td>\n",
       "      <td>0</td>\n",
       "      <td>0</td>\n",
       "      <td>0</td>\n",
       "      <td>0</td>\n",
       "      <td>0</td>\n",
       "    </tr>\n",
       "    <tr>\n",
       "      <th>1439760053</th>\n",
       "      <td>1</td>\n",
       "      <td>4</td>\n",
       "      <td>14</td>\n",
       "      <td>54</td>\n",
       "      <td>9</td>\n",
       "      <td>4</td>\n",
       "      <td>7</td>\n",
       "      <td>6</td>\n",
       "      <td>23</td>\n",
       "      <td>10</td>\n",
       "      <td>...</td>\n",
       "      <td>0</td>\n",
       "      <td>0</td>\n",
       "      <td>0</td>\n",
       "      <td>0</td>\n",
       "      <td>0</td>\n",
       "      <td>0</td>\n",
       "      <td>0</td>\n",
       "      <td>0</td>\n",
       "      <td>0</td>\n",
       "      <td>0</td>\n",
       "    </tr>\n",
       "    <tr>\n",
       "      <th>1439760118</th>\n",
       "      <td>1</td>\n",
       "      <td>4</td>\n",
       "      <td>14</td>\n",
       "      <td>54</td>\n",
       "      <td>9</td>\n",
       "      <td>4</td>\n",
       "      <td>7</td>\n",
       "      <td>6</td>\n",
       "      <td>23</td>\n",
       "      <td>10</td>\n",
       "      <td>...</td>\n",
       "      <td>0</td>\n",
       "      <td>0</td>\n",
       "      <td>0</td>\n",
       "      <td>0</td>\n",
       "      <td>0</td>\n",
       "      <td>0</td>\n",
       "      <td>0</td>\n",
       "      <td>0</td>\n",
       "      <td>0</td>\n",
       "      <td>0</td>\n",
       "    </tr>\n",
       "    <tr>\n",
       "      <th>1439760195</th>\n",
       "      <td>1</td>\n",
       "      <td>4</td>\n",
       "      <td>14</td>\n",
       "      <td>55</td>\n",
       "      <td>9</td>\n",
       "      <td>4</td>\n",
       "      <td>7</td>\n",
       "      <td>4</td>\n",
       "      <td>23</td>\n",
       "      <td>10</td>\n",
       "      <td>...</td>\n",
       "      <td>0</td>\n",
       "      <td>0</td>\n",
       "      <td>0</td>\n",
       "      <td>0</td>\n",
       "      <td>0</td>\n",
       "      <td>0</td>\n",
       "      <td>0</td>\n",
       "      <td>0</td>\n",
       "      <td>0</td>\n",
       "      <td>0</td>\n",
       "    </tr>\n",
       "  </tbody>\n",
       "</table>\n",
       "<p>5 rows × 507 columns</p>\n",
       "</div>"
      ],
      "text/plain": [
       "                _72  _79  _82  _83  _116  _119  _120  _127  _128  _137  ...    \\\n",
       "execution_time                                                          ...     \n",
       "1439759932        1    4   14   54     8     4     7     6    24    10  ...     \n",
       "1439759998        1    4   14   54     9     4     7     6    24    10  ...     \n",
       "1439760053        1    4   14   54     9     4     7     6    23    10  ...     \n",
       "1439760118        1    4   14   54     9     4     7     6    23    10  ...     \n",
       "1439760195        1    4   14   55     9     4     7     4    23    10  ...     \n",
       "\n",
       "                _3208  _3209  _3210  _3211  _3212  _3213  _3214  _3215  _3216  \\\n",
       "execution_time                                                                  \n",
       "1439759932          0      0      0      0      0      0      0      0      0   \n",
       "1439759998          0      0      0      0      0      0      0      0      0   \n",
       "1439760053          0      0      0      0      0      0      0      0      0   \n",
       "1439760118          0      0      0      0      0      0      0      0      0   \n",
       "1439760195          0      0      0      0      0      0      0      0      0   \n",
       "\n",
       "                _3217  \n",
       "execution_time         \n",
       "1439759932          0  \n",
       "1439759998          0  \n",
       "1439760053          0  \n",
       "1439760118          0  \n",
       "1439760195          0  \n",
       "\n",
       "[5 rows x 507 columns]"
      ]
     },
     "execution_count": 2,
     "metadata": {},
     "output_type": "execute_result"
    }
   ],
   "source": [
    "df.head()"
   ]
  },
  {
   "cell_type": "markdown",
   "metadata": {
    "collapsed": true,
    "tags": [
     "worksheet-0"
    ]
   },
   "source": [
    "######Rationale\n",
    "For any column (station) in the df, the total change is the sum of the absolute difference between [time_points + 1:end] - [time_points:end-1] - i.e. abs(df[station][1]-df[station][0]) + abs(df[station][2]-df[station][1])...+abs(df[station][n]-df[station][n-1]). We are then looking for the station(s) with the maximum total change. "
   ]
  },
  {
   "cell_type": "code",
   "execution_count": 9,
   "metadata": {
    "collapsed": false,
    "tags": [
     "worksheet-0"
    ]
   },
   "outputs": [
    {
     "name": "stdout",
     "output_type": "stream",
     "text": [
      "The most active station is station id 281 at Grand Army Plaza & Central Park S latitude: 40.7643971 longitude: -73.97371465 \n",
      "With 57 bicycles coming and going in the hour between 2015-08-16T16:18:52 and 2015-08-16T17:18:12\n",
      "\n",
      "The most active station is station id 2006 at Central Park S & 6 Ave latitude: 40.76590936 longitude: -73.97634151 \n",
      "With 57 bicycles coming and going in the hour between 2015-08-16T16:18:52 and 2015-08-16T17:18:12\n",
      "\n"
     ]
    }
   ],
   "source": [
    "sums =  pd.DataFrame(abs(df[1:].values - df[:-1].values), columns=df.columns).sum()\n",
    "most_active = sums[sums==sums.max()]\n",
    "\n",
    "for index in most_active.index:\n",
    "    id = int(index.strip(\"_\"))\n",
    "    hour_change = most_active[index]\n",
    "    cur.execute(\"SELECT id, stationname, latitude, longitude FROM citibike_reference WHERE id = ?\", (id,))\n",
    "    data = cur.fetchone()\n",
    "    print \"The most active station is station id %s at %s latitude: %s longitude: %s \" % data\n",
    "    print(\"With \" + str(hour_change) + \" bicycles coming and going in the hour between \" +\n",
    "          datetime.datetime.fromtimestamp(int(df.index[0])).strftime('%Y-%m-%dT%H:%M:%S') + \" and \" +\n",
    "          datetime.datetime.fromtimestamp(int(df.index[-1])).strftime('%Y-%m-%dT%H:%M:%S'))\n",
    "    print"
   ]
  },
  {
   "cell_type": "code",
   "execution_count": 8,
   "metadata": {
    "collapsed": false,
    "tags": [
     "worksheet-0"
    ]
   },
   "outputs": [
    {
     "data": {
      "text/plain": [
       "<Container object of 507 artists>"
      ]
     },
     "execution_count": 8,
     "metadata": {},
     "output_type": "execute_result"
    },
    {
     "data": {
      "image/png": "[encoded data removed]",
      "text/plain": [
       "<matplotlib.figure.Figure at 0x7fc481c8f710>"
      ]
     },
     "metadata": {},
     "output_type": "display_data"
    }
   ],
   "source": [
    "import matplotlib.pyplot as plt\n",
    "%matplotlib inline\n",
    "stations = sums.index.str.strip(\"_\").astype(int)\n",
    "plt.bar(stations, sums.values)"
   ]
  },
  {
   "cell_type": "code",
   "execution_count": null,
   "metadata": {
    "collapsed": true
   },
   "outputs": [],
   "source": []
  }
 ],
 "metadata": {
  "kernelspec": {
   "display_name": "Python 2",
   "language": "python",
   "name": "python2"
  },
  "language_info": {
   "codemirror_mode": {
    "name": "ipython",
    "version": 2
   },
   "file_extension": ".py",
   "mimetype": "text/x-python",
   "name": "python",
   "nbconvert_exporter": "python",
   "pygments_lexer": "ipython2",
   "version": "2.7.10"
  },
  "name": "NY_Bike.ipynb"
 },
 "nbformat": 4,
 "nbformat_minor": 0
}
