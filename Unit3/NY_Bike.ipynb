{
 "cells": [
  {
   "cell_type": "markdown",
   "metadata": {
    "collapsed": true,
    "tags": [
     "worksheet-0"
    ]
   },
   "source": [
    "## How New Yorkers Bike"
   ]
  },
  {
   "cell_type": "markdown",
   "metadata": {
    "collapsed": true,
    "tags": [
     "worksheet-0"
    ]
   },
   "source": [
    "###### Goal: record number of bikes available every minute in NYC for an hour, in order to determine which station is most active\n",
    "- activity defined as total number of bikes taken in or out within the hour (so, 2 taken out + 4 returned = 6 total)"
   ]
  },
  {
   "cell_type": "markdown",
   "metadata": {
    "collapsed": true,
    "tags": [
     "worksheet-0"
    ]
   },
   "source": [
    "### Getting Citi Bike data"
   ]
  },
  {
   "cell_type": "code",
   "execution_count": 6,
   "metadata": {
    "collapsed": false,
    "tags": [
     "worksheet-0"
    ]
   },
   "outputs": [],
   "source": [
    "#requests allows us to download files from a URL\n",
    "import requests\n",
    "r = requests.get('http://www.citibikenyc.com/stations/json')"
   ]
  },
  {
   "cell_type": "markdown",
   "metadata": {
    "collapsed": true,
    "tags": [
     "worksheet-0"
    ]
   },
   "source": [
    "### Cleaning Citi Bike data"
   ]
  },
  {
   "cell_type": "code",
   "execution_count": 7,
   "metadata": {
    "collapsed": false,
    "tags": [
     "worksheet-0"
    ]
   },
   "outputs": [
    {
     "name": "stdout",
     "output_type": "stream",
     "text": [
      "[u'executionTime', u'stationBeanList']\n",
      "2016-02-01 01:19:42 AM\n",
      "Number of stations: 509\n"
     ]
    }
   ],
   "source": [
    "#r.text will give basic view of what's contained in r\n",
    "#print r.text\n",
    "\n",
    "#data is formatted as JSON  - access elements of JSON in same way access elements of dict (i.e. with keys)\n",
    "print r.json().keys()\n",
    "\n",
    "#executionTime key returns time when file was created as a string\n",
    "print r.json()['executionTime']\n",
    "\n",
    "#stationBeanList key returns list of stations\n",
    "print \"Number of stations: {}\".format(len(r.json()['stationBeanList']))\n"
   ]
  },
  {
   "cell_type": "code",
   "execution_count": 8,
   "metadata": {
    "collapsed": false,
    "tags": [
     "worksheet-0"
    ]
   },
   "outputs": [
    {
     "data": {
      "text/plain": [
       "[u'availableDocks',\n",
       " u'totalDocks',\n",
       " u'city',\n",
       " u'altitude',\n",
       " u'stAddress2',\n",
       " u'longitude',\n",
       " u'lastCommunicationTime',\n",
       " u'postalCode',\n",
       " u'statusValue',\n",
       " u'testStation',\n",
       " u'stAddress1',\n",
       " u'stationName',\n",
       " u'landMark',\n",
       " u'latitude',\n",
       " u'statusKey',\n",
       " u'availableBikes',\n",
       " u'id',\n",
       " u'location']"
      ]
     },
     "execution_count": 8,
     "metadata": {},
     "output_type": "execute_result"
    }
   ],
   "source": [
    "#create list of all the fields associated with the stations \n",
    "key_list = [] #unique list of keys for each station listing\n",
    "for station in r.json()['stationBeanList']:\n",
    "    for k in station.keys():\n",
    "        if k not in key_list:\n",
    "            key_list.append(k)\n",
    "key_list"
   ]
  },
  {
   "cell_type": "code",
   "execution_count": 9,
   "metadata": {
    "collapsed": false,
    "tags": [
     "worksheet-0"
    ]
   },
   "outputs": [
    {
     "data": {
      "text/html": [
       "<div>\n",
       "<table border=\"1\" class=\"dataframe\">\n",
       "  <thead>\n",
       "    <tr style=\"text-align: right;\">\n",
       "      <th></th>\n",
       "      <th>altitude</th>\n",
       "      <th>availableBikes</th>\n",
       "      <th>availableDocks</th>\n",
       "      <th>city</th>\n",
       "      <th>id</th>\n",
       "      <th>landMark</th>\n",
       "      <th>lastCommunicationTime</th>\n",
       "      <th>latitude</th>\n",
       "      <th>location</th>\n",
       "      <th>longitude</th>\n",
       "      <th>postalCode</th>\n",
       "      <th>stAddress1</th>\n",
       "      <th>stAddress2</th>\n",
       "      <th>stationName</th>\n",
       "      <th>statusKey</th>\n",
       "      <th>statusValue</th>\n",
       "      <th>testStation</th>\n",
       "      <th>totalDocks</th>\n",
       "    </tr>\n",
       "  </thead>\n",
       "  <tbody>\n",
       "    <tr>\n",
       "      <th>0</th>\n",
       "      <td></td>\n",
       "      <td>17</td>\n",
       "      <td>22</td>\n",
       "      <td></td>\n",
       "      <td>72</td>\n",
       "      <td></td>\n",
       "      <td>2016-02-01 01:17:06 AM</td>\n",
       "      <td>40.767272</td>\n",
       "      <td></td>\n",
       "      <td>-73.993929</td>\n",
       "      <td></td>\n",
       "      <td>W 52 St &amp; 11 Ave</td>\n",
       "      <td></td>\n",
       "      <td>W 52 St &amp; 11 Ave</td>\n",
       "      <td>1</td>\n",
       "      <td>In Service</td>\n",
       "      <td>False</td>\n",
       "      <td>39</td>\n",
       "    </tr>\n",
       "    <tr>\n",
       "      <th>1</th>\n",
       "      <td></td>\n",
       "      <td>32</td>\n",
       "      <td>1</td>\n",
       "      <td></td>\n",
       "      <td>79</td>\n",
       "      <td></td>\n",
       "      <td>2016-02-01 01:19:10 AM</td>\n",
       "      <td>40.719116</td>\n",
       "      <td></td>\n",
       "      <td>-74.006667</td>\n",
       "      <td></td>\n",
       "      <td>Franklin St &amp; W Broadway</td>\n",
       "      <td></td>\n",
       "      <td>Franklin St &amp; W Broadway</td>\n",
       "      <td>1</td>\n",
       "      <td>In Service</td>\n",
       "      <td>False</td>\n",
       "      <td>33</td>\n",
       "    </tr>\n",
       "    <tr>\n",
       "      <th>2</th>\n",
       "      <td></td>\n",
       "      <td>11</td>\n",
       "      <td>16</td>\n",
       "      <td></td>\n",
       "      <td>82</td>\n",
       "      <td></td>\n",
       "      <td>2016-02-01 01:19:14 AM</td>\n",
       "      <td>40.711174</td>\n",
       "      <td></td>\n",
       "      <td>-74.000165</td>\n",
       "      <td></td>\n",
       "      <td>St James Pl &amp; Pearl St</td>\n",
       "      <td></td>\n",
       "      <td>St James Pl &amp; Pearl St</td>\n",
       "      <td>1</td>\n",
       "      <td>In Service</td>\n",
       "      <td>False</td>\n",
       "      <td>27</td>\n",
       "    </tr>\n",
       "    <tr>\n",
       "      <th>3</th>\n",
       "      <td></td>\n",
       "      <td>24</td>\n",
       "      <td>38</td>\n",
       "      <td></td>\n",
       "      <td>83</td>\n",
       "      <td></td>\n",
       "      <td>2016-02-01 01:18:53 AM</td>\n",
       "      <td>40.683826</td>\n",
       "      <td></td>\n",
       "      <td>-73.976323</td>\n",
       "      <td></td>\n",
       "      <td>Atlantic Ave &amp; Fort Greene Pl</td>\n",
       "      <td></td>\n",
       "      <td>Atlantic Ave &amp; Fort Greene Pl</td>\n",
       "      <td>1</td>\n",
       "      <td>In Service</td>\n",
       "      <td>False</td>\n",
       "      <td>62</td>\n",
       "    </tr>\n",
       "    <tr>\n",
       "      <th>4</th>\n",
       "      <td></td>\n",
       "      <td>6</td>\n",
       "      <td>32</td>\n",
       "      <td></td>\n",
       "      <td>116</td>\n",
       "      <td></td>\n",
       "      <td>2016-02-01 01:15:54 AM</td>\n",
       "      <td>40.741776</td>\n",
       "      <td></td>\n",
       "      <td>-74.001497</td>\n",
       "      <td></td>\n",
       "      <td>W 17 St &amp; 8 Ave</td>\n",
       "      <td></td>\n",
       "      <td>W 17 St &amp; 8 Ave</td>\n",
       "      <td>1</td>\n",
       "      <td>In Service</td>\n",
       "      <td>False</td>\n",
       "      <td>39</td>\n",
       "    </tr>\n",
       "  </tbody>\n",
       "</table>\n",
       "</div>"
      ],
      "text/plain": [
       "  altitude  availableBikes  availableDocks city   id landMark  \\\n",
       "0                       17              22        72            \n",
       "1                       32               1        79            \n",
       "2                       11              16        82            \n",
       "3                       24              38        83            \n",
       "4                        6              32       116            \n",
       "\n",
       "    lastCommunicationTime   latitude location  longitude postalCode  \\\n",
       "0  2016-02-01 01:17:06 AM  40.767272          -73.993929              \n",
       "1  2016-02-01 01:19:10 AM  40.719116          -74.006667              \n",
       "2  2016-02-01 01:19:14 AM  40.711174          -74.000165              \n",
       "3  2016-02-01 01:18:53 AM  40.683826          -73.976323              \n",
       "4  2016-02-01 01:15:54 AM  40.741776          -74.001497              \n",
       "\n",
       "                      stAddress1 stAddress2                    stationName  \\\n",
       "0               W 52 St & 11 Ave                          W 52 St & 11 Ave   \n",
       "1       Franklin St & W Broadway                  Franklin St & W Broadway   \n",
       "2         St James Pl & Pearl St                    St James Pl & Pearl St   \n",
       "3  Atlantic Ave & Fort Greene Pl             Atlantic Ave & Fort Greene Pl   \n",
       "4                W 17 St & 8 Ave                           W 17 St & 8 Ave   \n",
       "\n",
       "   statusKey statusValue testStation  totalDocks  \n",
       "0          1  In Service       False          39  \n",
       "1          1  In Service       False          33  \n",
       "2          1  In Service       False          27  \n",
       "3          1  In Service       False          62  \n",
       "4          1  In Service       False          39  "
      ]
     },
     "execution_count": 9,
     "metadata": {},
     "output_type": "execute_result"
    }
   ],
   "source": [
    "#convert data in df\n",
    "from pandas.io.json import json_normalize\n",
    "\n",
    "df = json_normalize(r.json()['stationBeanList'])\n",
    "df.head()"
   ]
  },
  {
   "cell_type": "code",
   "execution_count": 10,
   "metadata": {
    "collapsed": false,
    "tags": [
     "worksheet-0"
    ]
   },
   "outputs": [
    {
     "data": {
      "text/plain": [
       "<matplotlib.axes._subplots.AxesSubplot at 0x7f42c4b24690>"
      ]
     },
     "execution_count": 10,
     "metadata": {},
     "output_type": "execute_result"
    },
    {
     "data": {
      "image/png": "[encoded data removed]",
      "text/plain": [
       "<matplotlib.figure.Figure at 0x7f42c5bc2990>"
      ]
     },
     "metadata": {},
     "output_type": "display_data"
    }
   ],
   "source": [
    "#look at range for available bikes\n",
    "import matplotlib.pyplot as plt\n",
    "import pandas as pd\n",
    "%matplotlib inline\n",
    "\n",
    "df['availableBikes'].hist()"
   ]
  },
  {
   "cell_type": "code",
   "execution_count": 11,
   "metadata": {
    "collapsed": false,
    "tags": [
     "worksheet-0"
    ]
   },
   "outputs": [
    {
     "data": {
      "text/plain": [
       "<matplotlib.axes._subplots.AxesSubplot at 0x7f42c4b3c7d0>"
      ]
     },
     "execution_count": 11,
     "metadata": {},
     "output_type": "execute_result"
    },
    {
     "data": {
      "image/png": "[encoded data removed]",
      "text/plain": [
       "<matplotlib.figure.Figure at 0x7f42c5829710>"
      ]
     },
     "metadata": {},
     "output_type": "display_data"
    }
   ],
   "source": [
    "#look at range for available docks\n",
    "df['availableDocks'].hist()"
   ]
  },
  {
   "cell_type": "code",
   "execution_count": 12,
   "metadata": {
    "collapsed": false,
    "tags": [
     "worksheet-0"
    ]
   },
   "outputs": [
    {
     "data": {
      "text/plain": [
       "<matplotlib.axes._subplots.AxesSubplot at 0x7f42c4a8ddd0>"
      ]
     },
     "execution_count": 12,
     "metadata": {},
     "output_type": "execute_result"
    },
    {
     "data": {
      "image/png": "[encoded data removed]",
      "text/plain": [
       "<matplotlib.figure.Figure at 0x7f42c4a11e10>"
      ]
     },
     "metadata": {},
     "output_type": "display_data"
    }
   ],
   "source": [
    "df['totalDocks'].hist()"
   ]
  },
  {
   "cell_type": "code",
   "execution_count": 13,
   "metadata": {
    "collapsed": false,
    "tags": [
     "worksheet-0"
    ]
   },
   "outputs": [
    {
     "name": "stdout",
     "output_type": "stream",
     "text": [
      "<class 'pandas.core.frame.DataFrame'>\n",
      "Int64Index: 509 entries, 0 to 508\n",
      "Data columns (total 18 columns):\n",
      "altitude                 509 non-null object\n",
      "availableBikes           509 non-null int64\n",
      "availableDocks           509 non-null int64\n",
      "city                     509 non-null object\n",
      "id                       509 non-null int64\n",
      "landMark                 509 non-null object\n",
      "lastCommunicationTime    509 non-null object\n",
      "latitude                 509 non-null float64\n",
      "location                 509 non-null object\n",
      "longitude                509 non-null float64\n",
      "postalCode               509 non-null object\n",
      "stAddress1               509 non-null object\n",
      "stAddress2               509 non-null object\n",
      "stationName              509 non-null object\n",
      "statusKey                509 non-null int64\n",
      "statusValue              509 non-null object\n",
      "testStation              509 non-null bool\n",
      "totalDocks               509 non-null int64\n",
      "dtypes: bool(1), float64(2), int64(5), object(10)\n",
      "memory usage: 72.1+ KB\n",
      "None\n",
      "       availableBikes  availableDocks           id    latitude   longitude  \\\n",
      "count      509.000000      509.000000   509.000000  509.000000  509.000000   \n",
      "mean        12.263261       19.693517  1438.563851   40.728369  -73.983516   \n",
      "std         10.062474       12.321336  1334.345344    0.026755    0.028253   \n",
      "min          0.000000        0.000000    72.000000   40.678907  -74.096937   \n",
      "25%          5.000000       11.000000   346.000000   40.708771  -73.997044   \n",
      "50%          9.000000       18.000000   488.000000   40.725603  -73.982614   \n",
      "75%         19.000000       26.000000  3102.000000   40.749156  -73.962644   \n",
      "max         47.000000       57.000000  3244.000000   40.787209  -73.929891   \n",
      "\n",
      "        statusKey testStation  totalDocks  \n",
      "count  509.000000         509  509.000000  \n",
      "mean     1.027505           0   32.555992  \n",
      "std      0.233153           0   11.527582  \n",
      "min      1.000000       False    0.000000  \n",
      "25%      1.000000           0   24.000000  \n",
      "50%      1.000000           0   31.000000  \n",
      "75%      1.000000           0   39.000000  \n",
      "max      3.000000       False   67.000000  \n"
     ]
    }
   ],
   "source": [
    "print df.info()\n",
    "print df.describe()"
   ]
  },
  {
   "cell_type": "code",
   "execution_count": 10,
   "metadata": {
    "collapsed": false,
    "tags": [
     "worksheet-0"
    ]
   },
   "outputs": [
    {
     "name": "stdout",
     "output_type": "stream",
     "text": [
      "There are 507 stations, 346 in service and 161 not in service\n"
     ]
    }
   ],
   "source": [
    "total = len(df)\n",
    "not_serv = len(df[df.statusValue == \"Not In Service\"])\n",
    "servicing = total - not_serv\n",
    "print \"There are {} stations, {} in service and {} not in service\".format(total, servicing, not_serv)\n"
   ]
  },
  {
   "cell_type": "code",
   "execution_count": 15,
   "metadata": {
    "collapsed": false,
    "tags": [
     "worksheet-0"
    ]
   },
   "outputs": [
    {
     "data": {
      "text/plain": [
       "False"
      ]
     },
     "execution_count": 15,
     "metadata": {},
     "output_type": "execute_result"
    }
   ],
   "source": [
    "#no test stations apparently\n",
    "any(df[df.testStation].values)"
   ]
  },
  {
   "cell_type": "code",
   "execution_count": 12,
   "metadata": {
    "collapsed": false,
    "tags": [
     "worksheet-0"
    ]
   },
   "outputs": [
    {
     "name": "stdout",
     "output_type": "stream",
     "text": [
      "9.20118343195\n",
      "5.0\n",
      "13.4826589595\n",
      "12.0\n"
     ]
    }
   ],
   "source": [
    "print df.availableBikes.mean()\n",
    "print df.availableBikes.median()\n",
    "\n",
    "#if we remove stations that are not in service \n",
    "print df.availableBikes[df.statusValue == \"In Service\"].mean()\n",
    "print df.availableBikes[df.statusValue == \"In Service\"].median()"
   ]
  },
  {
   "cell_type": "code",
   "execution_count": 13,
   "metadata": {
    "collapsed": false,
    "tags": [
     "worksheet-0"
    ]
   },
   "outputs": [
    {
     "name": "stdout",
     "output_type": "stream",
     "text": [
      "12024\n",
      "4665\n",
      "6829\n",
      "11494\n"
     ]
    }
   ],
   "source": [
    "#total docks should equal availableBikes + availableDocks, although it doesn't here\n",
    "print df.totalDocks.sum()\n",
    "print df.availableBikes.sum()\n",
    "print df.availableDocks.sum()\n",
    "\n",
    "print(df.availableDocks.sum() + df.availableBikes.sum())"
   ]
  },
  {
   "cell_type": "markdown",
   "metadata": {
    "collapsed": true,
    "tags": [
     "worksheet-0"
    ]
   },
   "source": [
    "### Store Citi Bike data"
   ]
  },
  {
   "cell_type": "code",
   "execution_count": 39,
   "metadata": {
    "collapsed": false,
    "tags": [
     "worksheet-0"
    ]
   },
   "outputs": [],
   "source": [
    "import sqlite3 as lite\n",
    "\n",
    "con = lite.connect('citi_bike.db')\n",
    "cur = con.cursor()\n",
    "\n",
    "with con:\n",
    "    cur.execute(\"DROP TABLE IF EXISTS citibike_reference\")\n",
    "    cur.execute('''CREATE TABLE citibike_reference\n",
    "    (id INT PRIMARY KEY,\n",
    "    totalDocks INT,\n",
    "    city TEXT,\n",
    "    altitude INT,\n",
    "    stAddress2 TEXT,\n",
    "    longitude NUMERIC,\n",
    "    postalCode TEXT,\n",
    "    testStation TEXT,\n",
    "    stAddress1 TEXT,\n",
    "    stationName TEXT,\n",
    "    landMark TEXT,\n",
    "    latitude NUMERIC,\n",
    "    location TEXT )''')\n",
    "\n",
    "#a prepared SQL statement we're going to execute over and over again\n",
    "sql = \"\"\"INSERT INTO citibike_reference \n",
    "      (id, totalDocks, city, altitude, stAddress2, longitude, postalCode, \n",
    "       testStation, stAddress1, stationName, landMark, latitude, location) \n",
    "      VALUES (?,?,?,?,?,?,?,?,?,?,?,?,?)\"\"\"\n",
    "\n",
    "#for loop to populate values in the database\n",
    "with con:\n",
    "    for station in r.json()['stationBeanList']:\n",
    "        #id, totalDocks, city, altitude, stAddress2, longitude, postalCode, testStation, stAddress1, stationName, landMark, latitude, location)\n",
    "        cur.execute(sql,\n",
    "\t(station['id'],\n",
    "\tstation['totalDocks'],\n",
    "\tstation['city'],\n",
    "\tstation['altitude'],\n",
    "\tstation['stAddress2'],\n",
    "\tstation['longitude'],\n",
    "\tstation['postalCode'],\n",
    "\tstation['testStation'],\n",
    "\tstation['stAddress1'],\n",
    "\tstation['stationName'],\n",
    "\tstation['landMark'],\n",
    "\tstation['latitude'],\n",
    "\tstation['location']))\n",
    "\n",
    "#extract the column from the DataFrame and put them into a list\n",
    "station_ids = df['id'].tolist() \n",
    "\n",
    "# #add the '_' to the station name and also add the data type for SQLite\n",
    "station_ids = ['_' + str(x) + ' INT' for x in station_ids] \n",
    "\n",
    "# #create the table\n",
    "# #in this case, we're concatentating the string and joining all the station ids (now with '_' and 'INT' added)\n",
    "with con:\n",
    "    cur.execute(\"DROP TABLE IF EXISTS available_bikes\")\n",
    "    cur.execute(\"CREATE TABLE available_bikes ( execution_time INT, \" +  \", \".join(station_ids) + \");\")\n",
    "\n",
    "# # a package with datetime objects\n",
    "import time\n",
    "\n",
    "# # a package for parsing a string into a Python datetime object\n",
    "from dateutil.parser import parse \n",
    "\n",
    "import collections\n",
    "\n",
    "\n",
    "#take the string and parse it into a Python datetime object\n",
    "exec_time = parse(r.json()['executionTime'])\n",
    "\n",
    "#add entry for execution time to db\n",
    "with con:\n",
    "    cur.execute('INSERT INTO available_bikes (execution_time) VALUES (?)', (exec_time.strftime('%s'),))\n",
    "\n",
    "id_bikes = collections.defaultdict(int) #defaultdict to store available bikes by station\n",
    "\n",
    "#loop through the stations in the station list\n",
    "for station in r.json()['stationBeanList']:\n",
    "    id_bikes[station['id']] = station['availableBikes']\n",
    "\n",
    "#iterate through the defaultdict to update the values in the database\n",
    "with con:\n",
    "    for k, v in id_bikes.iteritems():\n",
    "        cur.execute(\"UPDATE available_bikes SET _\" + str(k) + \" = \" + str(v) + \" WHERE execution_time = \" + exec_time.strftime('%s') + \";\")"
   ]
  },
  {
   "cell_type": "code",
   "execution_count": 38,
   "metadata": {
    "collapsed": false,
    "tags": [
     "worksheet-0"
    ]
   },
   "outputs": [
    {
     "name": "stdout",
     "output_type": "stream",
     "text": [
      "2015-08-16 11:52:23\n",
      "1439743943\n"
     ]
    }
   ],
   "source": [
    "print exec_time\n",
    "print exec_time.strftime('%s')"
   ]
  },
  {
   "cell_type": "markdown",
   "metadata": {},
   "source": [
    "### My script\n",
    "This is the actual script I ran to pull in the data over the course of an hour (was ran in a separate file, probably best not to run the cell)"
   ]
  },
  {
   "cell_type": "code",
   "execution_count": null,
   "metadata": {
    "collapsed": true
   },
   "outputs": [],
   "source": [
    "import time\n",
    "import requests\n",
    "import collections\n",
    "import sqlite3 as lite\n",
    "from pandas.io.json import json_normalize\n",
    "from dateutil.parser import parse\n",
    "\n",
    "r = requests.get('http://www.citibikenyc.com/stations/json')\n",
    "df = json_normalize(r.json()['stationBeanList'])\n",
    "\n",
    "con = lite.connect('citi_bike.db')\n",
    "cur = con.cursor()\n",
    "\n",
    "#create reference table\n",
    "with con:\n",
    "    #cur.execute(\"DROP TABLE IF EXISTS citibike_reference\")\n",
    "    cur.execute('''CREATE TABLE citibike_reference\n",
    "    (id INT PRIMARY KEY,\n",
    "    totalDocks INT,\n",
    "    city TEXT,\n",
    "    altitude INT,\n",
    "    stAddress2 TEXT,\n",
    "    longitude NUMERIC,\n",
    "    postalCode TEXT,\n",
    "    testStation TEXT,\n",
    "    stAddress1 TEXT,\n",
    "    stationName TEXT,\n",
    "    landMark TEXT,\n",
    "    latitude NUMERIC,\n",
    "    location TEXT )''')\n",
    "\n",
    "#a prepared SQL statement we're going to execute over and over again\n",
    "sql = \"\"\"INSERT INTO citibike_reference \n",
    "      (id, totalDocks, city, altitude, stAddress2, longitude, postalCode, \n",
    "       testStation, stAddress1, stationName, landMark, latitude, location) \n",
    "      VALUES (?,?,?,?,?,?,?,?,?,?,?,?,?)\"\"\"\n",
    "\n",
    "#for loop to populate values in the database\n",
    "with con:\n",
    "    for station in r.json()['stationBeanList']:\n",
    "        #(id, totalDocks, city, altitude, stAddress2, longitude, postalCode,\n",
    "        #testStation, stAddress1, stationName, landMark, latitude, location)\n",
    "        cur.execute(sql,\n",
    "        (station['id'],\n",
    "        station['totalDocks'],\n",
    "        station['city'],\n",
    "        station['altitude'],\n",
    "        station['stAddress2'],\n",
    "        station['longitude'],\n",
    "        station['postalCode'],\n",
    "        station['testStation'],\n",
    "        station['stAddress1'],\n",
    "        station['stationName'],\n",
    "        station['landMark'],\n",
    "        station['latitude'],\n",
    "        station['location']))\n",
    "\n",
    "#extract the column from the DataFrame and put them into a list\n",
    "station_ids = df['id'].tolist() \n",
    "\n",
    "#add the '_' to the station name and also add the data type for SQLite\n",
    "station_ids = ['_' + str(x) + ' INT' for x in station_ids] \n",
    "\n",
    "#create available_bikes tabble\n",
    "#in this case, we're concatentating the string and joining all the station ids\n",
    "#(now with '_' and 'INT' added)\n",
    "with con:\n",
    "    #cur.execute(\"DROP TABLE IF EXISTS available_bikes\")\n",
    "    cur.execute(\"CREATE TABLE available_bikes ( execution_time INT, \" +\n",
    "                \", \".join(station_ids) + \");\")\n",
    "\n",
    "\n",
    "def _add_available(r=r, con=con, cur=cur):\n",
    "    \"\"\"\n",
    "    Update available_bikes table with execution time and value for available\n",
    "    bikes at each station (-id) for current request\n",
    "    \"\"\"\n",
    "    #take the string and parse it into a Python datetime object\n",
    "    exec_time = parse(r.json()['executionTime'])\n",
    "\n",
    "    #add entry for execution time to db\n",
    "    with con:\n",
    "        cur.execute('INSERT INTO available_bikes (execution_time) VALUES (?)',\n",
    "                    (exec_time.strftime('%s'),))\n",
    "\n",
    "    #defaultdict to store available bikes by station\n",
    "    id_bikes = collections.defaultdict(int) \n",
    "\n",
    "    #loop through the stations in the station list\n",
    "    for station in r.json()['stationBeanList']:\n",
    "        id_bikes[station['id']] = station['availableBikes']\n",
    "\n",
    "    #iterate through the defaultdict to update the values in the database\n",
    "    with con:\n",
    "        for k, v in id_bikes.iteritems():\n",
    "            cur.execute(\"UPDATE available_bikes SET _\" + str(k) + \" = \" +\n",
    "                        str(v) + \" WHERE execution_time = \" +\n",
    "                        exec_time.strftime('%s') + \";\")\n",
    "        \n",
    "#initial call to _add_available will add values for first time point, which is\n",
    "#also when we generate the reference table\n",
    "_add_available()\n",
    "\n",
    "#wait 1 minute\n",
    "time.sleep(60)\n",
    "\n",
    "#want to repeat adding values for available bikes 59 more times, for 1hr total\n",
    "for i in range(59):\n",
    "     new_r = requests.get('http://www.citibikenyc.com/stations/json')\n",
    "     _add_available(r=new_r)\n",
    "     time.sleep(60)\n",
    "\n",
    "con.close()\n"
   ]
  },
  {
   "cell_type": "markdown",
   "metadata": {
    "collapsed": true,
    "tags": [
     "worksheet-0"
    ]
   },
   "source": [
    "### Analyzing the Result"
   ]
  },
  {
   "cell_type": "code",
   "execution_count": 1,
   "metadata": {
    "collapsed": false,
    "tags": [
     "worksheet-0"
    ]
   },
   "outputs": [],
   "source": [
    "import pandas as pd\n",
    "import sqlite3 as lite\n",
    "import datetime\n",
    "\n",
    "con = lite.connect('citi_bike.db')\n",
    "cur = con.cursor()\n",
    "\n",
    "df = pd.read_sql_query(\"SELECT * FROM available_bikes ORDER BY execution_time\",con,index_col='execution_time')"
   ]
  },
  {
   "cell_type": "code",
   "execution_count": 2,
   "metadata": {
    "collapsed": false,
    "tags": [
     "worksheet-0"
    ]
   },
   "outputs": [
    {
     "data": {
      "text/html": [
       "<div>\n",
       "<table border=\"1\" class=\"dataframe\">\n",
       "  <thead>\n",
       "    <tr style=\"text-align: right;\">\n",
       "      <th></th>\n",
       "      <th>_72</th>\n",
       "      <th>_79</th>\n",
       "      <th>_82</th>\n",
       "      <th>_83</th>\n",
       "      <th>_116</th>\n",
       "      <th>_119</th>\n",
       "      <th>_120</th>\n",
       "      <th>_127</th>\n",
       "      <th>_128</th>\n",
       "      <th>_137</th>\n",
       "      <th>...</th>\n",
       "      <th>_3208</th>\n",
       "      <th>_3209</th>\n",
       "      <th>_3210</th>\n",
       "      <th>_3211</th>\n",
       "      <th>_3212</th>\n",
       "      <th>_3213</th>\n",
       "      <th>_3214</th>\n",
       "      <th>_3215</th>\n",
       "      <th>_3216</th>\n",
       "      <th>_3217</th>\n",
       "    </tr>\n",
       "    <tr>\n",
       "      <th>execution_time</th>\n",
       "      <th></th>\n",
       "      <th></th>\n",
       "      <th></th>\n",
       "      <th></th>\n",
       "      <th></th>\n",
       "      <th></th>\n",
       "      <th></th>\n",
       "      <th></th>\n",
       "      <th></th>\n",
       "      <th></th>\n",
       "      <th></th>\n",
       "      <th></th>\n",
       "      <th></th>\n",
       "      <th></th>\n",
       "      <th></th>\n",
       "      <th></th>\n",
       "      <th></th>\n",
       "      <th></th>\n",
       "      <th></th>\n",
       "      <th></th>\n",
       "      <th></th>\n",
       "    </tr>\n",
       "  </thead>\n",
       "  <tbody>\n",
       "    <tr>\n",
       "      <th>1439759932</th>\n",
       "      <td>1</td>\n",
       "      <td>4</td>\n",
       "      <td>14</td>\n",
       "      <td>54</td>\n",
       "      <td>8</td>\n",
       "      <td>4</td>\n",
       "      <td>7</td>\n",
       "      <td>6</td>\n",
       "      <td>24</td>\n",
       "      <td>10</td>\n",
       "      <td>...</td>\n",
       "      <td>0</td>\n",
       "      <td>0</td>\n",
       "      <td>0</td>\n",
       "      <td>0</td>\n",
       "      <td>0</td>\n",
       "      <td>0</td>\n",
       "      <td>0</td>\n",
       "      <td>0</td>\n",
       "      <td>0</td>\n",
       "      <td>0</td>\n",
       "    </tr>\n",
       "    <tr>\n",
       "      <th>1439759998</th>\n",
       "      <td>1</td>\n",
       "      <td>4</td>\n",
       "      <td>14</td>\n",
       "      <td>54</td>\n",
       "      <td>9</td>\n",
       "      <td>4</td>\n",
       "      <td>7</td>\n",
       "      <td>6</td>\n",
       "      <td>24</td>\n",
       "      <td>10</td>\n",
       "      <td>...</td>\n",
       "      <td>0</td>\n",
       "      <td>0</td>\n",
       "      <td>0</td>\n",
       "      <td>0</td>\n",
       "      <td>0</td>\n",
       "      <td>0</td>\n",
       "      <td>0</td>\n",
       "      <td>0</td>\n",
       "      <td>0</td>\n",
       "      <td>0</td>\n",
       "    </tr>\n",
       "    <tr>\n",
       "      <th>1439760053</th>\n",
       "      <td>1</td>\n",
       "      <td>4</td>\n",
       "      <td>14</td>\n",
       "      <td>54</td>\n",
       "      <td>9</td>\n",
       "      <td>4</td>\n",
       "      <td>7</td>\n",
       "      <td>6</td>\n",
       "      <td>23</td>\n",
       "      <td>10</td>\n",
       "      <td>...</td>\n",
       "      <td>0</td>\n",
       "      <td>0</td>\n",
       "      <td>0</td>\n",
       "      <td>0</td>\n",
       "      <td>0</td>\n",
       "      <td>0</td>\n",
       "      <td>0</td>\n",
       "      <td>0</td>\n",
       "      <td>0</td>\n",
       "      <td>0</td>\n",
       "    </tr>\n",
       "    <tr>\n",
       "      <th>1439760118</th>\n",
       "      <td>1</td>\n",
       "      <td>4</td>\n",
       "      <td>14</td>\n",
       "      <td>54</td>\n",
       "      <td>9</td>\n",
       "      <td>4</td>\n",
       "      <td>7</td>\n",
       "      <td>6</td>\n",
       "      <td>23</td>\n",
       "      <td>10</td>\n",
       "      <td>...</td>\n",
       "      <td>0</td>\n",
       "      <td>0</td>\n",
       "      <td>0</td>\n",
       "      <td>0</td>\n",
       "      <td>0</td>\n",
       "      <td>0</td>\n",
       "      <td>0</td>\n",
       "      <td>0</td>\n",
       "      <td>0</td>\n",
       "      <td>0</td>\n",
       "    </tr>\n",
       "    <tr>\n",
       "      <th>1439760195</th>\n",
       "      <td>1</td>\n",
       "      <td>4</td>\n",
       "      <td>14</td>\n",
       "      <td>55</td>\n",
       "      <td>9</td>\n",
       "      <td>4</td>\n",
       "      <td>7</td>\n",
       "      <td>4</td>\n",
       "      <td>23</td>\n",
       "      <td>10</td>\n",
       "      <td>...</td>\n",
       "      <td>0</td>\n",
       "      <td>0</td>\n",
       "      <td>0</td>\n",
       "      <td>0</td>\n",
       "      <td>0</td>\n",
       "      <td>0</td>\n",
       "      <td>0</td>\n",
       "      <td>0</td>\n",
       "      <td>0</td>\n",
       "      <td>0</td>\n",
       "    </tr>\n",
       "  </tbody>\n",
       "</table>\n",
       "<p>5 rows × 507 columns</p>\n",
       "</div>"
      ],
      "text/plain": [
       "                _72  _79  _82  _83  _116  _119  _120  _127  _128  _137  ...    \\\n",
       "execution_time                                                          ...     \n",
       "1439759932        1    4   14   54     8     4     7     6    24    10  ...     \n",
       "1439759998        1    4   14   54     9     4     7     6    24    10  ...     \n",
       "1439760053        1    4   14   54     9     4     7     6    23    10  ...     \n",
       "1439760118        1    4   14   54     9     4     7     6    23    10  ...     \n",
       "1439760195        1    4   14   55     9     4     7     4    23    10  ...     \n",
       "\n",
       "                _3208  _3209  _3210  _3211  _3212  _3213  _3214  _3215  _3216  \\\n",
       "execution_time                                                                  \n",
       "1439759932          0      0      0      0      0      0      0      0      0   \n",
       "1439759998          0      0      0      0      0      0      0      0      0   \n",
       "1439760053          0      0      0      0      0      0      0      0      0   \n",
       "1439760118          0      0      0      0      0      0      0      0      0   \n",
       "1439760195          0      0      0      0      0      0      0      0      0   \n",
       "\n",
       "                _3217  \n",
       "execution_time         \n",
       "1439759932          0  \n",
       "1439759998          0  \n",
       "1439760053          0  \n",
       "1439760118          0  \n",
       "1439760195          0  \n",
       "\n",
       "[5 rows x 507 columns]"
      ]
     },
     "execution_count": 2,
     "metadata": {},
     "output_type": "execute_result"
    }
   ],
   "source": [
    "df.head()"
   ]
  },
  {
   "cell_type": "markdown",
   "metadata": {
    "collapsed": true,
    "tags": [
     "worksheet-0"
    ]
   },
   "source": [
    "######Rationale\n",
    "For any column (station) in the df, the total change is the sum of the absolute difference between [time_points + 1:end] - [time_points:end-1] - i.e. abs(df[station][1]-df[station][0]) + abs(df[station][2]-df[station][1])...+abs(df[station][n]-df[station][n-1]). We are then looking for the station(s) with the maximum total change. "
   ]
  },
  {
   "cell_type": "code",
   "execution_count": 9,
   "metadata": {
    "collapsed": false,
    "tags": [
     "worksheet-0"
    ]
   },
   "outputs": [
    {
     "name": "stdout",
     "output_type": "stream",
     "text": [
      "The most active station is station id 281 at Grand Army Plaza & Central Park S latitude: 40.7643971 longitude: -73.97371465 \n",
      "With 57 bicycles coming and going in the hour between 2015-08-16T16:18:52 and 2015-08-16T17:18:12\n",
      "\n",
      "The most active station is station id 2006 at Central Park S & 6 Ave latitude: 40.76590936 longitude: -73.97634151 \n",
      "With 57 bicycles coming and going in the hour between 2015-08-16T16:18:52 and 2015-08-16T17:18:12\n",
      "\n"
     ]
    }
   ],
   "source": [
    "sums =  pd.DataFrame(abs(df[1:].values - df[:-1].values), columns=df.columns).sum()\n",
    "most_active = sums[sums==sums.max()]\n",
    "\n",
    "for index in most_active.index:\n",
    "    id = int(index.strip(\"_\"))\n",
    "    hour_change = most_active[index]\n",
    "    cur.execute(\"SELECT id, stationname, latitude, longitude FROM citibike_reference WHERE id = ?\", (id,))\n",
    "    data = cur.fetchone()\n",
    "    print \"The most active station is station id %s at %s latitude: %s longitude: %s \" % data\n",
    "    print(\"With \" + str(hour_change) + \" bicycles coming and going in the hour between \" +\n",
    "          datetime.datetime.fromtimestamp(int(df.index[0])).strftime('%Y-%m-%dT%H:%M:%S') + \" and \" +\n",
    "          datetime.datetime.fromtimestamp(int(df.index[-1])).strftime('%Y-%m-%dT%H:%M:%S'))\n",
    "    print"
   ]
  },
  {
   "cell_type": "code",
   "execution_count": 14,
   "metadata": {
    "collapsed": false,
    "tags": [
     "worksheet-0"
    ]
   },
   "outputs": [
    {
     "data": {
      "text/plain": [
       "<Container object of 507 artists>"
      ]
     },
     "execution_count": 14,
     "metadata": {},
     "output_type": "execute_result"
    },
    {
     "data": {
      "image/png": "[encoded data removed]",
      "text/plain": [
       "<matplotlib.figure.Figure at 0x7f42c4e93d50>"
      ]
     },
     "metadata": {},
     "output_type": "display_data"
    }
   ],
   "source": [
    "import matplotlib.pyplot as plt\n",
    "%matplotlib inline\n",
    "stations = sums.index.str.strip(\"_\").astype(int)\n",
    "plt.figure(figsize=(10,4))\n",
    "plt.bar(stations, sums.values)"
   ]
  },
  {
   "cell_type": "markdown",
   "metadata": {
    "collapsed": true
   },
   "source": [
    "We can see that there are two stations with the same total activity over the course of the hour. "
   ]
  },
  {
   "cell_type": "code",
   "execution_count": null,
   "metadata": {
    "collapsed": true
   },
   "outputs": [],
   "source": []
  }
 ],
 "metadata": {
  "kernelspec": {
   "display_name": "Python 2",
   "language": "python2",
   "name": "python2"
  },
  "language_info": {
   "codemirror_mode": {
    "name": "ipython",
    "version": 2
   },
   "file_extension": ".py",
   "mimetype": "text/x-python",
   "name": "python",
   "nbconvert_exporter": "python",
   "pygments_lexer": "ipython2",
   "version": "2.7.11"
  },
  "name": "NY_Bike.ipynb"
 },
 "nbformat": 4,
 "nbformat_minor": 0
}
