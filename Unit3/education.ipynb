{
 "cells": [
  {
   "cell_type": "markdown",
   "metadata": {
    "collapsed": true,
    "tags": [
     "worksheet-0"
    ]
   },
   "source": [
    "#Do Wealthier Countries Provide Better Education?"
   ]
  },
  {
   "cell_type": "markdown",
   "metadata": {
    "collapsed": true,
    "tags": [
     "worksheet-0"
    ]
   },
   "source": [
    "###Scrape Data from the UN"
   ]
  },
  {
   "cell_type": "code",
   "execution_count": 2,
   "metadata": {
    "collapsed": false,
    "tags": [
     "worksheet-0"
    ]
   },
   "outputs": [],
   "source": [
    "#extracting data from: http://web.archive.org/web/20110514112442/http://unstats.un.org/unsd/demographic/products/socind/education.htm\n",
    "\n",
    "from bs4 import BeautifulSoup\n",
    "import requests\n",
    "\n",
    "url = \"http://web.archive.org/web/20110514112442/http://unstats.un.org/unsd/demographic/products/socind/education.htm\"\n",
    "r = requests.get(url)\n",
    "\n",
    "soup = BeautifulSoup(r.content)"
   ]
  },
  {
   "cell_type": "code",
   "execution_count": null,
   "metadata": {
    "collapsed": false,
    "tags": [
     "worksheet-0"
    ]
   },
   "outputs": [],
   "source": [
    "#items we care about are at index 6\n",
    "counter = 0\n",
    "for row in soup('table'):\n",
    "    print(counter)\n",
    "    print(row)\n",
    "    print\n",
    "    counter += 1"
   ]
  },
  {
   "cell_type": "code",
   "execution_count": 181,
   "metadata": {
    "collapsed": false,
    "tags": [
     "worksheet-0"
    ]
   },
   "outputs": [
    {
     "data": {
      "text/plain": [
       "<tr class=\"tcont\">\n",
       "<td height=\"19\">Afghanistan</td>\n",
       "<td align=\"right\" height=\"19\">2004</td>\n",
       "<td height=\"19\"> </td>\n",
       "<td height=\"19\">a</td>\n",
       "<td align=\"right\" height=\"19\" width=\"71\">8</td>\n",
       "<td width=\"6\"></td>\n",
       "<td height=\"19\" width=\"51\"></td>\n",
       "<td align=\"right\" height=\"19\" width=\"72\">11</td>\n",
       "<td width=\"6\"></td>\n",
       "<td height=\"19\" width=\"53\"></td>\n",
       "<td align=\"right\" height=\"19\" width=\"64\">5</td>\n",
       "<td height=\"19\" width=\"59\"></td>\n",
       "</tr>"
      ]
     },
     "execution_count": 181,
     "metadata": {},
     "output_type": "execute_result"
    }
   ],
   "source": [
    "#all the lines with relevant info (besides country name) have 'align' in them\n",
    "soup('table')[6].find_all('tr')[8]"
   ]
  },
  {
   "cell_type": "code",
   "execution_count": 182,
   "metadata": {
    "collapsed": false,
    "tags": [
     "worksheet-0"
    ]
   },
   "outputs": [],
   "source": [
    "#this seems like a very kludgy way to do this - better way?\n",
    "\n",
    "countries = []\n",
    "values = {\"Year\": [], \"Total\": [], \"Men\": [], \"Women\": []}\n",
    "\n",
    "all_rows = soup('table')[6].find_all('tr')\n",
    "\n",
    "for row in all_rows[8:-11]:\n",
    "    row_vals = row.contents\n",
    "\n",
    "    countries.append(row_vals[1].get_text())\n",
    "    country_vals = [row_vals[i].get_text() for i in range(len(row_vals)) if \"align\" in str(row_vals[i])]\n",
    "\n",
    "    values[\"Year\"].append(country_vals[0])\n",
    "    values[\"Total\"].append(country_vals[1])\n",
    "    values[\"Men\"].append(country_vals[2])\n",
    "    values[\"Women\"].append(country_vals[3])\n"
   ]
  },
  {
   "cell_type": "code",
   "execution_count": 180,
   "metadata": {
    "collapsed": false,
    "tags": [
     "worksheet-0"
    ]
   },
   "outputs": [
    {
     "name": "stdout",
     "output_type": "stream",
     "text": [
      "            Men Total Women  Year\n",
      "Afghanistan  11     8     5  2004\n",
      "Albania      11    11    11  2004\n",
      "Algeria      13    13    13  2005\n",
      "Andorra      11    11    12  2008\n",
      "Anguilla     11    11    11  2008\n",
      "                                   Men Total Women  Year\n",
      "Venezuela (Bolivarian Republic of)  13    14    15  2008\n",
      "Viet Nam                            11    10    10  2001\n",
      "Yemen                               11     9     7  2005\n",
      "Zambia                               8     7     7  2000\n",
      "Zimbabwe                             9     9     9  2003\n",
      "<class 'pandas.core.frame.DataFrame'>\n",
      "Index: 183 entries, Afghanistan to Zimbabwe\n",
      "Data columns (total 4 columns):\n",
      "Men      183 non-null object\n",
      "Total    183 non-null object\n",
      "Women    183 non-null object\n",
      "Year     183 non-null object\n",
      "dtypes: object(4)\n",
      "memory usage: 7.1+ KB\n",
      "None\n"
     ]
    }
   ],
   "source": [
    "#not clear what kind of data structure supposed to put this in to, so just going to go with df for now\n",
    "import pandas as pd\n",
    "df = pd.DataFrame(values, index=countries)\n",
    "print df.head()\n",
    "print df.tail()\n",
    "print df.info()"
   ]
  }
 ],
 "metadata": {
  "kernelspec": {
   "display_name": "Python 2",
   "language": "python",
   "name": "python2"
  },
  "language_info": {
   "codemirror_mode": {
    "name": "ipython",
    "version": 2
   },
   "file_extension": ".py",
   "mimetype": "text/x-python",
   "name": "python",
   "nbconvert_exporter": "python",
   "pygments_lexer": "ipython2",
   "version": "2.7.10"
  }
 },
 "nbformat": 4,
 "nbformat_minor": 0
}
